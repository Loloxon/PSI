{
  "cells": [
    {
      "cell_type": "markdown",
      "metadata": {
        "id": "view-in-github",
        "colab_type": "text"
      },
      "source": [
        "<a href=\"https://colab.research.google.com/github/Loloxon/PSI/blob/main/lab3/lab_3.ipynb\" target=\"_parent\"><img src=\"https://colab.research.google.com/assets/colab-badge.svg\" alt=\"Open In Colab\"/></a>"
      ]
    },
    {
      "cell_type": "markdown",
      "metadata": {
        "id": "gClQGGIV37CC"
      },
      "source": [
        "# Sieci neuronowe"
      ]
    },
    {
      "cell_type": "markdown",
      "metadata": {
        "id": "R_iIzhJ637CE"
      },
      "source": [
        "## Wstęp\n",
        "\n",
        "Celem laboratorium jest zapoznanie się z podstawami sieci neuronowych oraz uczeniem głębokim (*deep learning*). Zapoznasz się na nim z następującymi tematami:\n",
        "- treningiem prostych sieci neuronowych, w szczególności z:\n",
        "  - regresją liniową w sieciach neuronowych\n",
        "  - optymalizacją funkcji kosztu\n",
        "  - algorytmem spadku wzdłuż gradientu\n",
        "  - siecią typu Multilayer Perceptron (MLP)\n",
        "- frameworkiem PyTorch, w szczególności z:\n",
        "  - ładowaniem danych\n",
        "  - preprocessingiem danych\n",
        "  - pisaniem pętli treningowej i walidacyjnej\n",
        "  - walidacją modeli\n",
        "- architekturą i hiperaprametrami sieci MLP, w szczególności z:\n",
        "  - warstwami gęstymi (w pełni połączonymi)\n",
        "  - funkcjami aktywacji\n",
        "  - regularyzacją: L2, dropout"
      ]
    },
    {
      "cell_type": "markdown",
      "metadata": {
        "id": "SxeVXx2s37CF"
      },
      "source": [
        "## Wykorzystywane biblioteki\n",
        "\n",
        "Zaczniemy od pisania ręcznie prostych sieci w bibliotece Numpy, służącej do obliczeń numerycznych na CPU. Później przejdziemy do wykorzystywania frameworka PyTorch, służącego do obliczeń numerycznych na CPU, GPU oraz automatycznego różniczkowania, wykorzystywanego głównie do treningu sieci neuronowych.\n",
        "\n",
        "Wykorzystamy PyTorcha ze względu na popularność, łatwość instalacji i użycia, oraz dużą kontrolę nad niskopoziomowymi aspektami budowy i treningu sieci neuronowych. Framework ten został stworzony do zastosowań badawczych i naukowych, ale ze względu na wygodę użycia stał się bardzo popularny także w przemyśle. W szczególności całkowicie zdominował przetwarzanie języka naturalnego (NLP) oraz uczenie na grafach.\n",
        "\n",
        "Pierwszy duży framework do deep learningu, oraz obecnie najpopularniejszy, to TensorFlow, wraz z wysokopoziomową nakładką Keras. Są jednak szanse, że Google (autorzy) będzie go powoli porzucać na rzecz ich nowego frameworka JAX ([dyskusja](https://www.reddit.com/r/MachineLearning/comments/vfl57t/d_google_quietly_moving_its_products_from/), [artykuł Business Insidera](https://www.businessinsider.com/facebook-pytorch-beat-google-tensorflow-jax-meta-ai-2022-6?IR=T)), który jest bardzo świeżym, ale ciekawym narzędziem.\n",
        "\n",
        "Trzecia, ale znacznie mniej popularna od powyższych opcja to Apache MXNet."
      ]
    },
    {
      "cell_type": "markdown",
      "metadata": {
        "id": "89N9zQXk37CF"
      },
      "source": [
        "## Konfiguracja własnego komputera\n",
        "\n",
        "Jeżeli korzystasz z własnego komputera, to musisz zainstalować trochę więcej bibliotek (Google Colab ma je już zainstalowane).\n",
        "\n",
        "Jeżeli nie masz GPU lub nie chcesz z niego korzystać, to wystarczy znaleźć odpowiednią komendę CPU [na stronie PyTorcha](https://pytorch.org/get-started/locally/). Dla Anacondy odpowiednia komenda została podana poniżej, dla pip'a znajdź ją na stronie.\n",
        "\n",
        "Jeżeli chcesz korzystać ze wsparcia GPU (na tym laboratorium nie będzie potrzebne, na kolejnych może przyspieszyć nieco obliczenia), to musi być to odpowiednio nowa karta NVidii, mająca CUDA compatibility ([lista](https://developer.nvidia.com/cuda-gpus)). Poza PyTorchem będzie potrzebne narzędzie NVidia CUDA w wersji 11.6 lub 11.7. Instalacja na Windowsie jest bardzo prosta (wystarczy ściągnąć plik EXE i zainstalować jak każdy inny program). Instalacja na Linuxie jest trudna i można względnie łatwo zepsuć sobie system, ale jeżeli chcesz spróbować, to [ten tutorial](https://www.youtube.com/results?search_query=nvidia+cuda+install+ubuntu+20.04) jest bardzo dobry."
      ]
    },
    {
      "cell_type": "code",
      "execution_count": 1,
      "metadata": {
        "id": "s--YiLdL37CG",
        "outputId": "a4c45a27-985c-49fa-c4cf-a5dffce4a896",
        "colab": {
          "base_uri": "https://localhost:8080/"
        }
      },
      "outputs": [
        {
          "output_type": "stream",
          "name": "stdout",
          "text": [
            "/bin/bash: conda: command not found\n"
          ]
        }
      ],
      "source": [
        "# for conda users\n",
        "!conda install -y matplotlib pandas pytorch torchvision torchaudio -c pytorch -c conda-forge"
      ]
    },
    {
      "cell_type": "markdown",
      "metadata": {
        "id": "Othm3C2lLAsj"
      },
      "source": [
        "## Wprowadzenie\n",
        "\n",
        "Zanim zaczniemy naszą przygodę z sieciami neuronowymi, przyjrzyjmy się prostemu przykładowi regresji liniowej na syntetycznych danych:"
      ]
    },
    {
      "cell_type": "code",
      "execution_count": 2,
      "metadata": {
        "id": "rnJsfxbnLAsj"
      },
      "outputs": [],
      "source": [
        "from typing import Tuple, Dict\n",
        "\n",
        "import numpy as np\n",
        "import matplotlib.pyplot as plt"
      ]
    },
    {
      "cell_type": "code",
      "execution_count": 3,
      "metadata": {
        "id": "EaYpEXzBLAsl",
        "outputId": "8bc959bc-4013-40c1-a2d3-4398dc22279c",
        "colab": {
          "base_uri": "https://localhost:8080/",
          "height": 283
        }
      },
      "outputs": [
        {
          "output_type": "execute_result",
          "data": {
            "text/plain": [
              "<matplotlib.collections.PathCollection at 0x7f41b1830a60>"
            ]
          },
          "metadata": {},
          "execution_count": 3
        },
        {
          "output_type": "display_data",
          "data": {
            "text/plain": [
              "<Figure size 432x288 with 1 Axes>"
            ],
            "image/png": "[encoded data removed]"
          },
          "metadata": {
            "needs_background": "light"
          }
        }
      ],
      "source": [
        "np.random.seed(0)\n",
        "\n",
        "x = np.linspace(0, 1, 100)\n",
        "y = x + np.random.normal(scale=0.1, size=x.shape)\n",
        "\n",
        "plt.scatter(x, y)"
      ]
    },
    {
      "cell_type": "markdown",
      "metadata": {
        "id": "PEM_-yKELAsl"
      },
      "source": [
        "W przeciwieństwie do laboratorium 1, tym razem będziemy chcieli rozwiązać ten problem własnoręcznie, bez użycia wysokopoziomowego interfejsu Scikit-learn'a. W tym celu musimy sobie przypomnieć sformułowanie naszego **problemu optymalizacyjnego (optimization problem)**.\n",
        "\n",
        "W przypadku prostej regresji liniowej (1 zmienna) mamy model postaci $\\hat{y} = \\alpha x + \\beta$, z dwoma parametrami, których będziemy się uczyć. Miarą niedopasowania modelu o danych parametrach jest **funkcja kosztu (cost function)**, nazywana też funkcją celu. Najczęściej używa się **błędu średniokwadratowego (mean squared error, MSE)**:\n",
        "$$\\large\n",
        "MSE = \\frac{1}{N} \\sum_{i}^{N} (y - \\hat{y})^2\n",
        "$$\n",
        "\n",
        "Od jakich $\\alpha$ i $\\beta$ zacząć? W najprostszym wypadku wystarczy po prostu je wylosować jako niewielkie liczby zmiennoprzecinkowe.\n",
        "\n",
        "#### Zadanie 1 (0.5 punkt)\n",
        "\n",
        "Uzupełnij kod funkcji `mse`, obliczającej błąd średniokwadratowy. Wykorzystaj Numpy'a w celu wektoryzacji obliczeń dla wydajności."
      ]
    },
    {
      "cell_type": "code",
      "execution_count": 4,
      "metadata": {
        "id": "RaA7Q46TLAsm"
      },
      "outputs": [],
      "source": [
        "def mse(y: np.ndarray, y_hat: np.ndarray) -> float:\n",
        "    return (1/y.size)*np.sum((y-y_hat)**2)"
      ]
    },
    {
      "cell_type": "code",
      "execution_count": 5,
      "metadata": {
        "id": "qSGfamGbLAsm",
        "colab": {
          "base_uri": "https://localhost:8080/",
          "height": 301
        },
        "outputId": "117ab966-2988-4c32-d21b-de2f9ee96bf5"
      },
      "outputs": [
        {
          "output_type": "stream",
          "name": "stdout",
          "text": [
            "MSE: 0.133\n"
          ]
        },
        {
          "output_type": "execute_result",
          "data": {
            "text/plain": [
              "[<matplotlib.lines.Line2D at 0x7f41b137d0d0>]"
            ]
          },
          "metadata": {},
          "execution_count": 5
        },
        {
          "output_type": "display_data",
          "data": {
            "text/plain": [
              "<Figure size 432x288 with 1 Axes>"
            ],
            "image/png": "[encoded data removed]"
          },
          "metadata": {
            "needs_background": "light"
          }
        }
      ],
      "source": [
        "a = np.random.rand()\n",
        "b = np.random.rand()\n",
        "print(f\"MSE: {mse(y, a * x + b):.3f}\")\n",
        "\n",
        "plt.scatter(x, y)\n",
        "plt.plot(x, a * x + b, color=\"g\", linewidth=4)"
      ]
    },
    {
      "cell_type": "markdown",
      "metadata": {
        "id": "Y--E9Mp9LAsn"
      },
      "source": [
        "Losowe parametry radzą sobie nie najlepiej. Jak lepiej dopasować naszą prostą do danych? Zawsze możemy starać się wyprowadzić rozwiązanie analitycznie, i w tym wypadku nawet nam się uda. Jest to jednak szczególny i dość rzadki przypadek, a w szczególności nie będzie to możliwe w większych sieciach neuronowych.\n",
        "\n",
        "Potrzebna nam będzie **metoda optymalizacji (optimization method)**, dającą wartości parametrów minimalizujące dowolną różniczkowalną funkcję kosztu. Zdecydowanie najpopularniejszy jest tutaj **spadek wzdłuż gradientu (gradient descent)**.\n",
        "\n",
        "Metoda ta wywodzi się z prostych obserwacji, które tutaj przedstawimy. Bardziej szczegółowe rozwinięcie dla zainteresowanych: [sekcja 4.3 \"Deep Learning Book\"](https://www.deeplearningbook.org/contents/numerical.html), [ten praktyczny kurs](https://cs231n.github.io/optimization-1/), [analiza oryginalnej publikacji Cauchy'ego](https://www.math.uni-bielefeld.de/documenta/vol-ismp/40_lemarechal-claude.pdf) (oryginał w języku francuskim).\n",
        "\n",
        "Pochodna jest dokładnie równa granicy funkcji. Dla małego $\\epsilon$ można ją przybliżyć jako:\n",
        "$$\\large\n",
        "\\frac{f(x)}{dx} \\approx \\frac{f(x) - f(x+\\epsilon)}{\\epsilon}\n",
        "$$\n",
        "\n",
        "Przyglądając się temu równaniu widzimy, że: \n",
        "* dla funkcji rosnącej ($f(x+\\epsilon) > f(x)$) wyrażenie $\\frac{f(x)}{dx}$ będzie miało znak ujemny \n",
        "* dla funkcji malejącej ($f(x+\\epsilon) < f(x)$) wyrażenie $\\frac{f(x)}{dx}$ będzie miało znak dodatni \n",
        "\n",
        "Widzimy więc, że potrafimy wskazać kierunek zmniejszenia wartości funkcji, patrząc na znak pochodnej. Zaobserwowano także, że amplituda wartości w $\\frac{f(x)}{dx}$ jest tym większa, im dalej jesteśmy od minimum (maximum). Pochodna wyznacza więc, w jakim kierunku funkcja najszybciej rośnie, więc kierunek o przeciwnym zwrocie to kierunek, w którym funkcja najszybciej spada.\n",
        "\n",
        "Stosując powyższe do optymalizacji, mamy:\n",
        "$$\\large\n",
        "x_{t+1} = x_{t} -  \\alpha * \\frac{f(x)}{dx}\n",
        "$$\n",
        "\n",
        "$\\alpha$ to niewielka wartość (rzędu zwykle $10^{-5}$ - $10^{-2}$), wprowadzona, aby trzymać się założenia o małej zmianie parametrów ($\\epsilon$). Nazywa się ją **stałą uczącą (learning rate)** i jest zwykle najważniejszym hiperparametrem podczas nauki sieci.\n",
        "\n",
        "Metoda ta zakłada, że używamy całego zbioru danych do aktualizacji parametrów w każdym kroku, co nazywa się po prostu GD (od *gradient descent*) albo *full batch GD*. Wtedy każdy krok optymalizacji nazywa się **epoką (epoch)**.\n",
        "\n",
        "Im większa stała ucząca, tym większe nasze kroki podczas minimalizacji. Możemy więc uczyć szybciej, ale istnieje ryzyko, że będziemy \"przeskakiwać\" minima. Mniejsza stała ucząca to wolniejszy trening, ale dokładniejszy. Można także zmieniać ją podczas treningu, co nazywa się **learning rate scheduling (LR scheduling)**. Obrazowo:\n",
        "\n",
        "![learning_rate](http://www.bdhammel.com/assets/learning-rate/lr-types.png)"
      ]
    },
    {
      "cell_type": "markdown",
      "metadata": {
        "id": "496qEjkVLAso"
      },
      "source": [
        "![interactive LR](http://cdn-images-1.medium.com/max/640/1*eeIvlwkMNG1wSmj3FR6M2g.gif)"
      ]
    },
    {
      "cell_type": "markdown",
      "metadata": {
        "id": "RYkyAHKzLAsp"
      },
      "source": [
        "Policzmy więc pochodną dla naszej funkcji kosztu MSE. Pochodną liczymy po predykcjach naszego modelu, czyli de facto po jego parametrach, bo to od nich zależą predykcje.\n",
        "$$\\large\n",
        "\\frac{\\text{d} MSE}{\\text{d} \\hat{y}} = -2 \\cdot \\frac{1}{N} \\sum_{i=1}^{N} (y_i - \\hat{y}_i) = -2 \\cdot \\frac{1}{N} \\sum_{i=1}^{N} (y_i - (ax + b))\n",
        "$$\n",
        "\n",
        "Musimy jeszcze się dowiedzieć, jak zaktualizować każdy z naszych parametrów. Możemy wykorzystać tutaj regułę łańcuchową (*chain rule*) i policzyć ponownie pochodną, tylko że po naszych parametrach. Dzięki temu dostajemy informację, jak każdy z parametrów wpływa na funkcję kosztu i jak zmodyfikować każdy z nich w kolejnym kroku.\n",
        "$$\\large\n",
        "\\frac{\\text{d} \\hat{y}}{\\text{d} a} = x\n",
        "$$\n",
        "\n",
        "$$\\large\n",
        "\\frac{\\text{d} \\hat{y}}{\\text{d} b} = 1\n",
        "$$\n",
        "\n",
        "Pełna aktualizacja to zatem:\n",
        "$$\\large\n",
        "a' = a + \\alpha * \\left( \\frac{-2}{N} \\sum_{i=1}^N (y_i - \\hat{y}_i) * (-x) \\right)\n",
        "$$\n",
        "$$\\large\n",
        "b' = b + \\alpha * \\left( \\frac{-2}{N} \\sum_{i=1}^N (y_i - \\hat{y}_i) * (-1) \\right)\n",
        "$$\n",
        "\n",
        "Liczymy więc pochodną funkcji kosztu, a potem za pomocą reguły łańcuchowej \"cofamy się\", dochodząc do tego, jak każdy z parametrów wpływa na błąd i w jaki sposób powinniśmy go zmienić. Nazywa się to **propagacją wsteczną (backpropagation)** i jest podstawowym mechanizmem umożliwiającym naukę sieci neuronowych za pomocą spadku wzdłuż gradientu. Więcej możesz o tym przeczytać [tutaj](https://cs231n.github.io/optimization-2/).\n",
        "\n",
        "Obliczenie pochodnych cząstkowych ze względu na każdy \n",
        "\n",
        "\n",
        "#### Zadanie 2 (1.5 punkty)\n",
        "\n",
        "Zaimplementuj funkcję realizującą jedną epokę treningową. Oblicz predykcję przy aktualnych parametrach oraz zaktualizuj je zgodnie z powyższymi wzorami."
      ]
    },
    {
      "cell_type": "code",
      "execution_count": 6,
      "metadata": {
        "id": "4qbdWOSULAsp"
      },
      "outputs": [],
      "source": [
        "def optimize(\n",
        "    x: np.ndarray, y: np.ndarray, a: float, b: float, learning_rate: float = 0.1\n",
        "):\n",
        "    y_hat = a * x + b\n",
        "    errors = y - y_hat\n",
        "\n",
        "    new_a = a + learning_rate*(-2/y.size * np.sum(np.dot(errors,-x)))\n",
        "    new_b = b + learning_rate*(-2/y.size * np.sum(errors*(-1)))\n",
        "\n",
        "    return new_a, new_b"
      ]
    },
    {
      "cell_type": "code",
      "execution_count": 7,
      "metadata": {
        "id": "fPbIu7dj37CK",
        "colab": {
          "base_uri": "https://localhost:8080/"
        },
        "outputId": "6521a634-c9e0-4f4a-80d7-9cd793551f46"
      },
      "outputs": [
        {
          "output_type": "stream",
          "name": "stdout",
          "text": [
            "step 0 loss:  0.1330225119404028\n",
            "step 100 loss:  0.012673197778527677\n",
            "step 200 loss:  0.010257153540857818\n",
            "step 300 loss:  0.0100948037549359\n",
            "step 400 loss:  0.010083894412889118\n",
            "step 500 loss:  0.010083161342973332\n",
            "step 600 loss:  0.01008311208321971\n",
            "step 700 loss:  0.010083108773135261\n",
            "step 800 loss:  0.010083108550709078\n",
            "step 900 loss:  0.010083108535762811\n",
            "final loss: 0.010083108534760455\n"
          ]
        }
      ],
      "source": [
        "for i in range(1000):\n",
        "    loss = mse(y, a * x + b)\n",
        "    a, b = optimize(x, y, a, b)\n",
        "    if i % 100 == 0:\n",
        "        print(f\"step {i} loss: \", loss)\n",
        "\n",
        "print(\"final loss:\", loss)"
      ]
    },
    {
      "cell_type": "code",
      "execution_count": 8,
      "metadata": {
        "id": "xOgRcPC1LAsq",
        "scrolled": false,
        "colab": {
          "base_uri": "https://localhost:8080/",
          "height": 283
        },
        "outputId": "079d1ad9-319d-4932-8391-d2fce60cbeaf"
      },
      "outputs": [
        {
          "output_type": "execute_result",
          "data": {
            "text/plain": [
              "[<matplotlib.lines.Line2D at 0x7f41b135fd00>]"
            ]
          },
          "metadata": {},
          "execution_count": 8
        },
        {
          "output_type": "display_data",
          "data": {
            "text/plain": [
              "<Figure size 432x288 with 1 Axes>"
            ],
            "image/png": "[encoded data removed]"
          },
          "metadata": {
            "needs_background": "light"
          }
        }
      ],
      "source": [
        "plt.scatter(x, y)\n",
        "plt.plot(x, a * x + b, color=\"g\", linewidth=4)"
      ]
    },
    {
      "cell_type": "markdown",
      "metadata": {
        "id": "vOr2fWYpLAsq"
      },
      "source": [
        "Udało ci się wytrenować swoją pierwszą sieć neuronową. Czemu? Otóż neuron to po prostu wektor parametrów, a zwykle robimy iloczyn skalarny tych parametrów z wejściem. Dodatkowo na wyjście nakłada się **funkcję aktywacji (activation function)**, która przekształca wyjście. Tutaj takiej nie było, a właściwie była to po prostu funkcja identyczności.\n",
        "\n",
        "Oczywiście w praktyce korzystamy z odpowiedniego frameworka, który w szczególności:\n",
        "- ułatwia budowanie sieci, np. ma gotowe klasy dla warstw neuronów\n",
        "- ma zaimplementowane funkcje kosztu oraz ich pochodne\n",
        "- sam różniczkuje ze względu na odpowiednie parametry i aktualizuje je odpowiednio podczas treningu\n"
      ]
    },
    {
      "cell_type": "markdown",
      "metadata": {
        "id": "NJBYJabuLAsr"
      },
      "source": [
        "## Wprowadzenie do PyTorcha"
      ]
    },
    {
      "cell_type": "markdown",
      "metadata": {
        "id": "EB-99XqhLAsr"
      },
      "source": [
        "PyTorch to w gruncie rzeczy narzędzie do algebry liniowej z [automatycznym rożniczkowaniem](https://pytorch.org/tutorials/beginner/blitz/autograd_tutorial.html), z możliwością przyspieszenia obliczeń z pomocą GPU. Na tych fundamentach zbudowany jest pełny framework do uczenia głębokiego. Można spotkać się ze stwierdzenie, że PyTorch to NumPy + GPU + opcjonalne różniczkowanie, co jest całkiem celne. Plus można łatwo debugować printem :)\n",
        "\n",
        "PyTorch używa dynamicznego grafu obliczeń, który sami definiujemy w kodzie. Takie podejście jest bardzo wygodne, elastyczne i pozwala na łatwe eksperymentowanie. Odbywa się to potencjalnie kosztem wydajności, ponieważ pozostawia kwestię optymalizacji programiście. Więcej na ten temat dla zainteresowanych na końcu laboratorium.\n",
        "\n",
        "Samo API PyTorcha bardzo przypomina Numpy'a, a podstawowym obiektem jest `Tensor`, klasa reprezentująca tensory dowolnego wymiaru. Dodatkowo niektóre tensory będą miały automatycznie obliczony gradient. Co ważne, tensor jest na pewnym urządzeniu, CPU lub GPU, a przenosić między nimi trzeba explicite.\n",
        "\n",
        "Najważniejsze moduły:\n",
        "- `torch` - podstawowe klasy oraz funkcje, np. `Tensor`, `from_numpy()`\n",
        "- `torch.nn` - klasy związane z sieciami neuronowymi, np. `Linear`, `Sigmoid`\n",
        "- `torch.optim` - wszystko związane z optymalizacją, głównie spadkiem wzdłuż gradientu"
      ]
    },
    {
      "cell_type": "code",
      "execution_count": 9,
      "metadata": {
        "id": "FwuIt8S-LAss"
      },
      "outputs": [],
      "source": [
        "import torch\n",
        "import torch.nn as nn\n",
        "import torch.optim as optim"
      ]
    },
    {
      "cell_type": "code",
      "execution_count": 10,
      "metadata": {
        "id": "bfCiUFXULAss",
        "colab": {
          "base_uri": "https://localhost:8080/"
        },
        "outputId": "f8e146d1-9711-4222-e33a-9cb39c423b9e"
      },
      "outputs": [
        {
          "output_type": "stream",
          "name": "stdout",
          "text": [
            "tensor([1.0418, 1.2257, 1.4285, 1.6694, 1.3756, 1.5421, 1.6215, 1.8711, 1.9174,\n",
            "        1.1901])\n",
            "tensor([0.0418, 0.2257, 0.4285, 0.6694, 0.3756, 0.5421, 0.6215, 0.8711, 0.9174,\n",
            "        0.1901])\n",
            "tensor(4.8832)\n"
          ]
        }
      ],
      "source": [
        "ones = torch.ones(10)\n",
        "noise = torch.ones(10) * torch.rand(10)\n",
        "\n",
        "# elementwise sum\n",
        "print(ones + noise)\n",
        "\n",
        "# elementwise multiplication\n",
        "print(ones * noise)\n",
        "\n",
        "# dot product\n",
        "print(ones @ noise)"
      ]
    },
    {
      "cell_type": "code",
      "execution_count": 11,
      "metadata": {
        "id": "ynNd_kD0LAst"
      },
      "outputs": [],
      "source": [
        "# beware - shares memory with original Numpy array!\n",
        "# very fast, but modifications are visible to original variable\n",
        "x = torch.from_numpy(x)\n",
        "y = torch.from_numpy(y)"
      ]
    },
    {
      "cell_type": "markdown",
      "metadata": {
        "id": "W9kkxczELAsu"
      },
      "source": [
        "Jeżeli dla stworzonych przez nas tensorów chcemy śledzić operacje i obliczać gradient, to musimy oznaczyć `requires_grad=True`."
      ]
    },
    {
      "cell_type": "code",
      "execution_count": 12,
      "metadata": {
        "id": "8HtZL-KfLAsu",
        "colab": {
          "base_uri": "https://localhost:8080/"
        },
        "outputId": "d1c74def-d77d-47e0-b2da-bcfc14005e9c"
      },
      "outputs": [
        {
          "output_type": "execute_result",
          "data": {
            "text/plain": [
              "(tensor([0.3480], requires_grad=True), tensor([0.7337], requires_grad=True))"
            ]
          },
          "metadata": {},
          "execution_count": 12
        }
      ],
      "source": [
        "a = torch.rand(1, requires_grad=True)\n",
        "b = torch.rand(1, requires_grad=True)\n",
        "a, b"
      ]
    },
    {
      "cell_type": "markdown",
      "metadata": {
        "id": "Nl1guWZ_LAsv"
      },
      "source": [
        "PyTorch zawiera większość powszechnie używanych funkcji kosztu, np. MSE. Mogą być one używane na 2 sposoby, z czego pierwszy jest popularniejszy:\n",
        "- jako klasy wywoływalne z modułu `torch.nn`\n",
        "- jako funkcje z modułu `torch.nn.functional`\n",
        "\n",
        "Po wykonaniu poniższego kodu widzimy, że zwraca on nam tensor z dodatkowymi atrybutami. Co ważne, jest to skalar (0-wymiarowy tensor), bo potrzebujemy zwyczajnej liczby do obliczania propagacji wstecznych (pochodnych czątkowych)."
      ]
    },
    {
      "cell_type": "code",
      "execution_count": 13,
      "metadata": {
        "id": "QT2ANhcQ37CM",
        "colab": {
          "base_uri": "https://localhost:8080/"
        },
        "outputId": "13d935ee-d06a-49a8-dc18-fcb05c1bfb0f"
      },
      "outputs": [
        {
          "output_type": "execute_result",
          "data": {
            "text/plain": [
              "tensor(0.2044, dtype=torch.float64, grad_fn=<MseLossBackward0>)"
            ]
          },
          "metadata": {},
          "execution_count": 13
        }
      ],
      "source": [
        "mse = nn.MSELoss()\n",
        "mse(y, a * x + b)"
      ]
    },
    {
      "cell_type": "markdown",
      "metadata": {
        "id": "vS35r49nLAsw"
      },
      "source": [
        "Atrybutu `grad_fn` nie używamy wprost, bo korzysta z niego w środku PyTorch, ale widać, że tensor jest \"świadomy\", że liczy się na nim pochodną. Możemy natomiast skorzystać z atrybutu `grad`, który zawiera faktyczny gradient. Zanim go jednak dostaniemy, to trzeba powiedzieć PyTorchowi, żeby policzył gradient. Służy do tego metoda `.backward()`, wywoływana na obiekcie zwracanym przez funkcję kosztu."
      ]
    },
    {
      "cell_type": "code",
      "execution_count": 14,
      "metadata": {
        "id": "Qb7l6Xg1LAsx"
      },
      "outputs": [],
      "source": [
        "loss = mse(y, a * x + b)\n",
        "loss.backward()"
      ]
    },
    {
      "cell_type": "code",
      "execution_count": 15,
      "metadata": {
        "id": "6LfQbLVoLAsx",
        "colab": {
          "base_uri": "https://localhost:8080/"
        },
        "outputId": "371363b0-2dc6-405d-cc6f-57718b2724c1"
      },
      "outputs": [
        {
          "output_type": "stream",
          "name": "stdout",
          "text": [
            "tensor([0.2959])\n"
          ]
        }
      ],
      "source": [
        "print(a.grad)"
      ]
    },
    {
      "cell_type": "markdown",
      "metadata": {
        "id": "Kdf1iweELAsy"
      },
      "source": [
        "Ważne jest, że PyTorch nie liczy za każdym razem nowego gradientu, tylko dodaje go do istniejącego, czyli go akumuluje. Jest to przydatne w niektórych sieciach neuronowych, ale zazwyczaj trzeba go zerować. Jeżeli tego nie zrobimy, to dostaniemy coraz większe gradienty.\n",
        "\n",
        "Do zerowania służy metoda `.zero_()`. W PyTorchu wszystkie metody modyfikujące tensor w miejscu mają `_` na końcu nazwy. Jest to dość niskopoziomowa operacja dla pojedynczych tensorów - zobaczymy za chwilę, jak to robić łatwiej dla całej sieci."
      ]
    },
    {
      "cell_type": "code",
      "execution_count": 16,
      "metadata": {
        "id": "DiCQZKJsLAsy",
        "colab": {
          "base_uri": "https://localhost:8080/"
        },
        "outputId": "4d8243c3-7b89-4e4c-ca9b-52ff355e20bb"
      },
      "outputs": [
        {
          "output_type": "execute_result",
          "data": {
            "text/plain": [
              "tensor([0.5918])"
            ]
          },
          "metadata": {},
          "execution_count": 16
        }
      ],
      "source": [
        "loss = mse(y, a * x + b)\n",
        "loss.backward()\n",
        "a.grad"
      ]
    },
    {
      "cell_type": "markdown",
      "metadata": {
        "id": "xNC3Ag8uLAsz"
      },
      "source": [
        "Zobaczmy, jak wyglądałaby regresja liniowa, ale napisana w PyTorchu. Jest to oczywiście bardzo niskopoziomowa implementacja - za chwilę zobaczymy, jak to wygląda w praktyce."
      ]
    },
    {
      "cell_type": "code",
      "execution_count": 17,
      "metadata": {
        "id": "AKnxyeboLAsz",
        "colab": {
          "base_uri": "https://localhost:8080/"
        },
        "outputId": "e8cefd40-16fe-4433-b092-8288314ce655"
      },
      "outputs": [
        {
          "output_type": "stream",
          "name": "stdout",
          "text": [
            "step 0 loss:  tensor(0.2044, dtype=torch.float64, grad_fn=<MseLossBackward0>)\n",
            "step 100 loss:  tensor(0.0134, dtype=torch.float64, grad_fn=<MseLossBackward0>)\n",
            "step 200 loss:  tensor(0.0103, dtype=torch.float64, grad_fn=<MseLossBackward0>)\n",
            "step 300 loss:  tensor(0.0101, dtype=torch.float64, grad_fn=<MseLossBackward0>)\n",
            "step 400 loss:  tensor(0.0101, dtype=torch.float64, grad_fn=<MseLossBackward0>)\n",
            "step 500 loss:  tensor(0.0101, dtype=torch.float64, grad_fn=<MseLossBackward0>)\n",
            "step 600 loss:  tensor(0.0101, dtype=torch.float64, grad_fn=<MseLossBackward0>)\n",
            "step 700 loss:  tensor(0.0101, dtype=torch.float64, grad_fn=<MseLossBackward0>)\n",
            "step 800 loss:  tensor(0.0101, dtype=torch.float64, grad_fn=<MseLossBackward0>)\n",
            "step 900 loss:  tensor(0.0101, dtype=torch.float64, grad_fn=<MseLossBackward0>)\n",
            "final loss: tensor(0.0101, dtype=torch.float64, grad_fn=<MseLossBackward0>)\n"
          ]
        }
      ],
      "source": [
        "learning_rate = 0.1\n",
        "for i in range(1000):\n",
        "    loss = mse(y, a * x + b)\n",
        "\n",
        "    # compute gradients\n",
        "    loss.backward()\n",
        "\n",
        "    # update parameters\n",
        "    a.data -= learning_rate * a.grad\n",
        "    b.data -= learning_rate * b.grad\n",
        "\n",
        "    # zero gradients\n",
        "    a.grad.data.zero_()\n",
        "    b.grad.data.zero_()\n",
        "\n",
        "    if i % 100 == 0:\n",
        "        print(f\"step {i} loss: \", loss)\n",
        "\n",
        "print(\"final loss:\", loss)"
      ]
    },
    {
      "cell_type": "markdown",
      "metadata": {
        "id": "2DXNVhshmmI-"
      },
      "source": [
        "Trening modeli w PyTorchu jest dosyć schematyczny i najczęściej rozdziela się go na kilka bloków, dających razem **pętlę uczącą (training loop)**, powtarzaną w każdej epoce:\n",
        "1. Forward pass - obliczenie predykcji sieci\n",
        "2. Loss calculation\n",
        "3. Backpropagation - obliczenie pochodnych oraz zerowanie gradientów\n",
        "4. Optimalization - aktualizacja wag\n",
        "5. Other - ewaluacja na zbiorze walidacyjnym, logging etc."
      ]
    },
    {
      "cell_type": "code",
      "execution_count": 18,
      "metadata": {
        "id": "2etpw7TNLAs0",
        "scrolled": true,
        "colab": {
          "base_uri": "https://localhost:8080/"
        },
        "outputId": "1f97895d-26b0-4821-8422-29e357861049"
      },
      "outputs": [
        {
          "output_type": "stream",
          "name": "stdout",
          "text": [
            "step 0 loss: 0.0891\n",
            "step 100 loss: 0.0137\n",
            "step 200 loss: 0.0103\n",
            "step 300 loss: 0.0101\n",
            "step 400 loss: 0.0101\n",
            "step 500 loss: 0.0101\n",
            "step 600 loss: 0.0101\n",
            "step 700 loss: 0.0101\n",
            "step 800 loss: 0.0101\n",
            "step 900 loss: 0.0101\n",
            "final loss: tensor(0.0101, dtype=torch.float64, grad_fn=<MseLossBackward0>)\n"
          ]
        }
      ],
      "source": [
        "# initialization\n",
        "learning_rate = 0.1\n",
        "a = torch.rand(1, requires_grad=True)\n",
        "b = torch.rand(1, requires_grad=True)\n",
        "optimizer = torch.optim.SGD([a, b], lr=learning_rate)\n",
        "best_loss = float(\"inf\")\n",
        "\n",
        "# training loop in each epoch\n",
        "for i in range(1000):\n",
        "    # forward pass\n",
        "    y_hat = a * x + b\n",
        "\n",
        "    # loss calculation\n",
        "    loss = mse(y, y_hat)\n",
        "\n",
        "    # backpropagation\n",
        "    loss.backward()\n",
        "\n",
        "    # optimization\n",
        "    optimizer.step()\n",
        "    optimizer.zero_grad()  # zeroes all gradients - very convenient!\n",
        "\n",
        "    if i % 100 == 0:\n",
        "        if loss < best_loss:\n",
        "            best_model = (a.clone(), b.clone())\n",
        "            best_loss = loss\n",
        "        print(f\"step {i} loss: {loss.item():.4f}\")\n",
        "\n",
        "print(\"final loss:\", loss)"
      ]
    },
    {
      "cell_type": "markdown",
      "metadata": {
        "id": "JfktZWSA37CN"
      },
      "source": [
        "Przejdziemy teraz do budowy sieci neuronowej do klasyfikacji. Typowo implementuje się ją po prostu jako sieć dla regresji, ale zwracającą tyle wyników, ile mamy klas, a potem aplikuje się na tym funkcję sigmoidalną (2 klasy) lub softmax (>2 klasy). W przypadku klasyfikacji binarnej zwraca się czasem tylko 1 wartość, przepuszczaną przez sigmoidę - wtedy wyjście z sieci to prawdopodobieństwo klasy pozytywnej.\n",
        "\n",
        "Funkcją kosztu zwykle jest **entropia krzyżowa (cross-entropy)**, stosowana też w klasycznej regresji logistycznej. Co ważne, sieci neuronowe, nawet tak proste, uczą się szybciej i stabilniej, gdy dane na wejściu (a przynajmniej zmienne numeryczne) są **ustandaryzowane (standardized)**. Operacja ta polega na odjęciu średniej i podzieleniu przez odchylenie standardowe (tzw. *Z-score transformation*).\n",
        "\n",
        "**Uwaga - PyTorch wymaga tensora klas będącego liczbami zmiennoprzecinkowymi!**"
      ]
    },
    {
      "cell_type": "markdown",
      "metadata": {
        "id": "ZLKwOc2k37CO"
      },
      "source": [
        "## Zbiór danych"
      ]
    },
    {
      "cell_type": "markdown",
      "metadata": {
        "id": "Eglu7D7X37CO"
      },
      "source": [
        "Na tym laboratorium wykorzystamy zbiór [Adult Census](https://archive.ics.uci.edu/ml/datasets/adult). Dotyczy on przewidywania na podstawie danych demograficznych, czy dany człowiek zarabia powyżej 50 tysięcy dolarów miesięcznie, czy też mniej. Jest to cenna informacja np. przy planowaniu kampanii marketingowych. Jak możesz się domyślić, zbiór pochodzi z czasów, kiedy inflacja była dużo niższa :)\n",
        "\n",
        "Poniżej znajduje się kod do ściągnięcia i preprocessingu zbioru. Nie musisz go dokładnie analizować."
      ]
    },
    {
      "cell_type": "code",
      "execution_count": 19,
      "metadata": {
        "id": "4DNsaZAnLAs0",
        "scrolled": true,
        "colab": {
          "base_uri": "https://localhost:8080/"
        },
        "outputId": "cef5fa5a-ab84-48d6-efe5-c162d36e6a5a"
      },
      "outputs": [
        {
          "output_type": "stream",
          "name": "stdout",
          "text": [
            "--2022-12-06 14:36:41--  https://archive.ics.uci.edu/ml/machine-learning-databases/adult/adult.data\n",
            "Resolving archive.ics.uci.edu (archive.ics.uci.edu)... 128.195.10.252\n",
            "Connecting to archive.ics.uci.edu (archive.ics.uci.edu)|128.195.10.252|:443... connected.\n",
            "HTTP request sent, awaiting response... 200 OK\n",
            "Length: 3974305 (3.8M) [application/x-httpd-php]\n",
            "Saving to: ‘adult.data’\n",
            "\n",
            "adult.data          100%[===================>]   3.79M  6.85MB/s    in 0.6s    \n",
            "\n",
            "2022-12-06 14:36:42 (6.85 MB/s) - ‘adult.data’ saved [3974305/3974305]\n",
            "\n"
          ]
        }
      ],
      "source": [
        "!wget https://archive.ics.uci.edu/ml/machine-learning-databases/adult/adult.data"
      ]
    },
    {
      "cell_type": "code",
      "execution_count": 20,
      "metadata": {
        "id": "oZzNaJX137CO",
        "colab": {
          "base_uri": "https://localhost:8080/"
        },
        "outputId": "24e3103c-c9ff-40cf-8a19-563ed47a8ec0"
      },
      "outputs": [
        {
          "output_type": "execute_result",
          "data": {
            "text/plain": [
              "array([' <=50K', ' >50K'], dtype=object)"
            ]
          },
          "metadata": {},
          "execution_count": 20
        }
      ],
      "source": [
        "import pandas as pd\n",
        "\n",
        "columns = [\n",
        "    \"age\",\n",
        "    \"workclass\",\n",
        "    \"fnlwgt\",\n",
        "    \"education\",\n",
        "    \"education-num\",\n",
        "    \"marital-status\",\n",
        "    \"occupation\",\n",
        "    \"relationship\",\n",
        "    \"race\",\n",
        "    \"sex\",\n",
        "    \"capital-gain\",\n",
        "    \"capital-loss\",\n",
        "    \"hours-per-week\",\n",
        "    \"native-country\",\n",
        "    \"wage\"\n",
        "]\n",
        "\n",
        "\"\"\"\n",
        "age: continuous.\n",
        "workclass: Private, Self-emp-not-inc, Self-emp-inc, Federal-gov, Local-gov, State-gov, Without-pay, Never-worked.\n",
        "fnlwgt: continuous.\n",
        "education: Bachelors, Some-college, 11th, HS-grad, Prof-school, Assoc-acdm, Assoc-voc, 9th, 7th-8th, 12th, Masters, 1st-4th, 10th, Doctorate, 5th-6th, Preschool.\n",
        "education-num: continuous.\n",
        "marital-status: Married-civ-spouse, Divorced, Never-married, Separated, Widowed, Married-spouse-absent, Married-AF-spouse.\n",
        "occupation: Tech-support, Craft-repair, Other-service, Sales, Exec-managerial, Prof-specialty, Handlers-cleaners, Machine-op-inspct, Adm-clerical, Farming-fishing, Transport-moving, Priv-house-serv, Protective-serv, Armed-Forces.\n",
        "relationship: Wife, Own-child, Husband, Not-in-family, Other-relative, Unmarried.\n",
        "race: White, Asian-Pac-Islander, Amer-Indian-Eskimo, Other, Black.\n",
        "sex: Female, Male.\n",
        "capital-gain: continuous.\n",
        "capital-loss: continuous.\n",
        "hours-per-week: continuous.\n",
        "native-country: United-States, Cambodia, England, Puerto-Rico, Canada, Germany, Outlying-US(Guam-USVI-etc), India, Japan, Greece, South, China, Cuba, Iran, Honduras, Philippines, Italy, Poland, Jamaica, Vietnam, Mexico, Portugal, Ireland, France, Dominican-Republic, Laos, Ecuador, Taiwan, Haiti, Columbia, Hungary, Guatemala, Nicaragua, Scotland, Thailand, Yugoslavia, El-Salvador, Trinadad&Tobago, Peru, Hong, Holand-Netherlands.\n",
        "\"\"\"\n",
        "\n",
        "df = pd.read_csv(\"adult.data\", header=None, names=columns)\n",
        "df.wage.unique()"
      ]
    },
    {
      "cell_type": "code",
      "execution_count": 21,
      "metadata": {
        "id": "NNNb-2H437CO"
      },
      "outputs": [],
      "source": [
        "# attribution: https://www.kaggle.com/code/royshih23/topic7-classification-in-python\n",
        "df['education'].replace('Preschool', 'dropout',inplace=True)\n",
        "df['education'].replace('10th', 'dropout',inplace=True)\n",
        "df['education'].replace('11th', 'dropout',inplace=True)\n",
        "df['education'].replace('12th', 'dropout',inplace=True)\n",
        "df['education'].replace('1st-4th', 'dropout',inplace=True)\n",
        "df['education'].replace('5th-6th', 'dropout',inplace=True)\n",
        "df['education'].replace('7th-8th', 'dropout',inplace=True)\n",
        "df['education'].replace('9th', 'dropout',inplace=True)\n",
        "df['education'].replace('HS-Grad', 'HighGrad',inplace=True)\n",
        "df['education'].replace('HS-grad', 'HighGrad',inplace=True)\n",
        "df['education'].replace('Some-college', 'CommunityCollege',inplace=True)\n",
        "df['education'].replace('Assoc-acdm', 'CommunityCollege',inplace=True)\n",
        "df['education'].replace('Assoc-voc', 'CommunityCollege',inplace=True)\n",
        "df['education'].replace('Bachelors', 'Bachelors',inplace=True)\n",
        "df['education'].replace('Masters', 'Masters',inplace=True)\n",
        "df['education'].replace('Prof-school', 'Masters',inplace=True)\n",
        "df['education'].replace('Doctorate', 'Doctorate',inplace=True)\n",
        "\n",
        "df['marital-status'].replace('Never-married', 'NotMarried',inplace=True)\n",
        "df['marital-status'].replace(['Married-AF-spouse'], 'Married',inplace=True)\n",
        "df['marital-status'].replace(['Married-civ-spouse'], 'Married',inplace=True)\n",
        "df['marital-status'].replace(['Married-spouse-absent'], 'NotMarried',inplace=True)\n",
        "df['marital-status'].replace(['Separated'], 'Separated',inplace=True)\n",
        "df['marital-status'].replace(['Divorced'], 'Separated',inplace=True)\n",
        "df['marital-status'].replace(['Widowed'], 'Widowed',inplace=True)"
      ]
    },
    {
      "cell_type": "code",
      "execution_count": 22,
      "metadata": {
        "id": "LiOxs_6mLAs1",
        "scrolled": true,
        "colab": {
          "base_uri": "https://localhost:8080/"
        },
        "outputId": "224004ed-0584-4a69-9442-ccfc5a121a38"
      },
      "outputs": [
        {
          "output_type": "execute_result",
          "data": {
            "text/plain": [
              "((20838, 108), (20838,))"
            ]
          },
          "metadata": {},
          "execution_count": 22
        }
      ],
      "source": [
        "from sklearn.model_selection import train_test_split\n",
        "from sklearn.preprocessing import MinMaxScaler, OneHotEncoder, StandardScaler\n",
        "\n",
        "X = df.copy()\n",
        "y = (X.pop(\"wage\") == ' >50K').astype(int).values\n",
        "\n",
        "train_valid_size = 0.2\n",
        "\n",
        "X_train, X_test, y_train, y_test = train_test_split(\n",
        "    X, y, \n",
        "    test_size=train_valid_size, \n",
        "    random_state=0, \n",
        "    shuffle=True, \n",
        "    stratify=y\n",
        ")\n",
        "X_train, X_valid, y_train, y_valid = train_test_split(\n",
        "    X_train, y_train, \n",
        "    test_size=train_valid_size, \n",
        "    random_state=0, \n",
        "    shuffle=True, \n",
        "    stratify=y_train\n",
        ")\n",
        "\n",
        "continuous_cols = ['age', 'fnlwgt', 'education-num', 'capital-gain', 'capital-loss', 'hours-per-week']\n",
        "continuous_X_train = X_train[continuous_cols]\n",
        "categorical_X_train = X_train.loc[:, ~X_train.columns.isin(continuous_cols)]\n",
        "\n",
        "continuous_X_valid = X_valid[continuous_cols]\n",
        "categorical_X_valid = X_valid.loc[:, ~X_valid.columns.isin(continuous_cols)]\n",
        "\n",
        "continuous_X_test = X_test[continuous_cols]\n",
        "categorical_X_test = X_test.loc[:, ~X_test.columns.isin(continuous_cols)]\n",
        "\n",
        "categorical_encoder = OneHotEncoder(sparse=False, handle_unknown='ignore')\n",
        "continuous_scaler = StandardScaler() #MinMaxScaler(feature_range=(-1, 1))\n",
        "\n",
        "categorical_encoder.fit(categorical_X_train)\n",
        "continuous_scaler.fit(continuous_X_train)\n",
        "\n",
        "continuous_X_train = continuous_scaler.transform(continuous_X_train)\n",
        "continuous_X_valid = continuous_scaler.transform(continuous_X_valid)\n",
        "continuous_X_test = continuous_scaler.transform(continuous_X_test)\n",
        "\n",
        "categorical_X_train = categorical_encoder.transform(categorical_X_train)\n",
        "categorical_X_valid = categorical_encoder.transform(categorical_X_valid)\n",
        "categorical_X_test = categorical_encoder.transform(categorical_X_test)\n",
        "\n",
        "X_train = np.concatenate([continuous_X_train, categorical_X_train], axis=1)\n",
        "X_valid = np.concatenate([continuous_X_valid, categorical_X_valid], axis=1)\n",
        "X_test = np.concatenate([continuous_X_test, categorical_X_test], axis=1)\n",
        "\n",
        "X_train.shape, y_train.shape"
      ]
    },
    {
      "cell_type": "markdown",
      "metadata": {
        "id": "kMw-PdGb37CO"
      },
      "source": [
        "Uwaga co do typów - PyTorchu wszystko w sieci neuronowej musi być typu `float32`. W szczególności trzeba uważać na konwersje z Numpy'a, który używa domyślnie typu `float64`. Może ci się przydać metoda `.float()`.\n",
        "\n",
        "Uwaga co do kształtów wyjścia - wejścia do `nn.BCELoss` muszą być tego samego kształtu. Może ci się przydać metoda `.squeeze()` lub `.unsqueeze()`."
      ]
    },
    {
      "cell_type": "code",
      "execution_count": 23,
      "metadata": {
        "id": "qfRA3xEoLAs1"
      },
      "outputs": [],
      "source": [
        "X_train = torch.from_numpy(X_train).float()\n",
        "y_train = torch.from_numpy(y_train).float().unsqueeze(-1)\n",
        "\n",
        "X_valid = torch.from_numpy(X_valid).float()\n",
        "y_valid = torch.from_numpy(y_valid).float().unsqueeze(-1)\n",
        "\n",
        "X_test = torch.from_numpy(X_test).float()\n",
        "y_test = torch.from_numpy(y_test).float().unsqueeze(-1)"
      ]
    },
    {
      "cell_type": "markdown",
      "metadata": {
        "id": "j_1CK8nS37CP"
      },
      "source": [
        "Podobnie jak w laboratorium 2, mamy tu do czynienia z klasyfikacją niezbalansowaną:"
      ]
    },
    {
      "cell_type": "code",
      "execution_count": 24,
      "metadata": {
        "id": "Y2UvKxlR37CP",
        "colab": {
          "base_uri": "https://localhost:8080/",
          "height": 281
        },
        "outputId": "f17c10dc-f0d4-41d1-d966-ea61b6bec04d"
      },
      "outputs": [
        {
          "output_type": "display_data",
          "data": {
            "text/plain": [
              "<Figure size 432x288 with 1 Axes>"
            ],
            "image/png": "[encoded data removed]"
          },
          "metadata": {
            "needs_background": "light"
          }
        }
      ],
      "source": [
        "import matplotlib.pyplot as plt\n",
        "\n",
        "y_pos_perc = 100 * y_train.sum().item() / len(y_train)\n",
        "y_neg_perc = 100 - y_pos_perc\n",
        "\n",
        "plt.title(\"Class percentages\")\n",
        "plt.bar([\"<50k\", \">=50k\"], [y_neg_perc, y_pos_perc])\n",
        "plt.show()"
      ]
    },
    {
      "cell_type": "markdown",
      "metadata": {
        "id": "KuArK_vL37CP"
      },
      "source": [
        "W związku z powyższym będziemy używać odpowiednich metryk, czyli AUROC, precyzji i czułości."
      ]
    },
    {
      "cell_type": "markdown",
      "metadata": {
        "id": "XLexWff-LAs0"
      },
      "source": [
        "#### Zadanie 3 (1 punkt)\n",
        "\n",
        "Zaimplementuj regresję logistyczną dla tego zbioru danych, używając PyTorcha. Dane wejściowe zostały dla ciebie przygotowane w komórkach poniżej.\n",
        "\n",
        "Sama sieć składa się z 2 elementów:\n",
        "- warstwa liniowa `nn.Linear`, przekształcająca wektor wejściowy na 1 wyjście - logit\n",
        "- aktywacja sigmoidalna `nn.Sigmoid`, przekształcająca logit na prawdopodobieństwo klasy pozytywnej\n",
        "\n",
        "Użyj binarnej entropii krzyżowej `nn.BCELoss` jako funkcji kosztu. Użyj optymalizatora SGD ze stałą uczącą `1e-3`. Trenuj przez 3000 epok. Pamiętaj, aby przekazać do optymalizatora `torch.optim.SGD` parametry sieci (metoda `.parameters()`)."
      ]
    },
    {
      "cell_type": "code",
      "execution_count": 25,
      "metadata": {
        "id": "NbABKz5-LAs2",
        "scrolled": true,
        "colab": {
          "base_uri": "https://localhost:8080/"
        },
        "outputId": "171d2b6f-bad8-4200-b534-96f097b10c1d"
      },
      "outputs": [
        {
          "output_type": "stream",
          "name": "stdout",
          "text": [
            "final loss: 0.4411\n"
          ]
        }
      ],
      "source": [
        "learning_rate = 1e-3\n",
        "\n",
        "model = nn.Linear(X_train.size(dim=1), y_train.size(dim=1))\n",
        "activation = nn.Sigmoid()\n",
        "optimizer = torch.optim.SGD(model.parameters(), learning_rate)\n",
        "loss_fn = nn.BCELoss()\n",
        "\n",
        "# training loop in each epoch\n",
        "for i in range(3000):\n",
        "    optimizer.zero_grad()\n",
        "    \n",
        "    # forward pass\n",
        "    y_hat = model(X_train)\n",
        "    y_hat = activation(y_hat)\n",
        "\n",
        "    # loss calculation\n",
        "    loss = loss_fn(y_hat, y_train)\n",
        "\n",
        "    # backpropagation\n",
        "    loss.backward()\n",
        "\n",
        "    # optimization\n",
        "    optimizer.step()\n",
        "\n",
        "print(f\"final loss: {loss.item():.4f}\")"
      ]
    },
    {
      "cell_type": "markdown",
      "metadata": {
        "id": "gck02Vf237CP"
      },
      "source": [
        "Teraz trzeba sprawdzić, jak poszło naszej sieci. W PyTorchu sieć pracuje zawsze w jednym z dwóch trybów: treningowym lub ewaluacyjnym (predykcyjnym). Ten drugi wyłącza niektóre mechanizmy, które są używane tylko podczas treningu, w szczególności regularyzację dropout. Do przełączania służą metody modelu `.train()` i `.eval()`.\n",
        "\n",
        "Dodatkowo podczas liczenia predykcji dobrze jest wyłączyć liczenie gradientów, bo nie będą potrzebne, a oszczędza to czas i pamięć. Używa się do tego menadżera kontekstu `with torch.no_grad():`."
      ]
    },
    {
      "cell_type": "code",
      "execution_count": 26,
      "metadata": {
        "id": "zH37zDX4LAs2",
        "scrolled": true,
        "colab": {
          "base_uri": "https://localhost:8080/"
        },
        "outputId": "06a76209-d8a4-491b-ebd2-ace2f165bc58"
      },
      "outputs": [
        {
          "output_type": "stream",
          "name": "stdout",
          "text": [
            "AUROC: 85.23%\n"
          ]
        }
      ],
      "source": [
        "from sklearn.metrics import precision_recall_curve, precision_recall_fscore_support, roc_auc_score\n",
        "\n",
        "model.eval()\n",
        "with torch.no_grad():\n",
        "    y_score = activation(model(X_test))\n",
        "\n",
        "auroc = roc_auc_score(y_test, y_score)\n",
        "print(f\"AUROC: {100 * auroc:.2f}%\")"
      ]
    },
    {
      "cell_type": "markdown",
      "metadata": {
        "id": "U6dKOuTe37CP"
      },
      "source": [
        "Jest to całkiem dobry wynik, a może być jeszcze lepszy. Sprawdźmy dla pewności jeszcze inne metryki: precyzję, recall oraz F1-score. Dodatkowo narysujemy krzywą precision-recall, czyli jak zmieniają się te metryki w zależności od przyjętego progu (threshold) prawdopodobieństwa, powyżej którego przyjmujemy klasę pozytywną. Taką krzywą należy rysować na zbiorze walidacyjnym, bo później chcemy wykorzystać tę informację do doboru progu, a nie chcemy mieć wycieku danych testowych (data leakage).\n",
        "\n",
        "Poniżej zaimplementowano także funkcję `get_optimal_threshold()`, która sprawdza, dla którego progu uzyskujemy maksymalny F1-score, i zwraca indeks oraz wartość optymalnego progu. Przyda ci się ona w dalszej części laboratorium."
      ]
    },
    {
      "cell_type": "code",
      "execution_count": 27,
      "metadata": {
        "id": "1IjN_Lt637CP"
      },
      "outputs": [],
      "source": [
        "from sklearn.metrics import PrecisionRecallDisplay\n",
        "\n",
        "\n",
        "def get_optimal_threshold(\n",
        "    precisions: np.array, \n",
        "    recalls: np.array, \n",
        "    thresholds: np.array\n",
        ") -> Tuple[int, float]:\n",
        "    f1_scores = 2 * precisions * recalls / (precisions + recalls)\n",
        "    \n",
        "    optimal_idx = np.nanargmax(f1_scores)\n",
        "    optimal_threshold = thresholds[optimal_idx]\n",
        "    \n",
        "    return optimal_idx, optimal_threshold\n",
        "\n",
        "\n",
        "def plot_precision_recall_curve(y_true, y_pred_score) -> None:\n",
        "    precisions, recalls, thresholds = precision_recall_curve(y_true, y_pred_score)\n",
        "    optimal_idx, optimal_threshold = get_optimal_threshold(precisions, recalls, thresholds)\n",
        "\n",
        "    disp = PrecisionRecallDisplay(precisions, recalls)\n",
        "    disp.plot()\n",
        "    plt.title(f\"Precision-recall curve (opt. thresh.: {optimal_threshold:.4f})\")\n",
        "    plt.axvline(recalls[optimal_idx], color=\"green\", linestyle=\"-.\")\n",
        "    plt.axhline(precisions[optimal_idx], color=\"green\", linestyle=\"-.\")\n",
        "    plt.show()\n"
      ]
    },
    {
      "cell_type": "code",
      "execution_count": 28,
      "metadata": {
        "id": "KabYuuNa37CQ",
        "colab": {
          "base_uri": "https://localhost:8080/",
          "height": 295
        },
        "outputId": "56b48176-1c3a-4bb1-a48a-2934eb9ae718"
      },
      "outputs": [
        {
          "output_type": "display_data",
          "data": {
            "text/plain": [
              "<Figure size 432x288 with 1 Axes>"
            ],
            "image/png": "[encoded data removed]"
          },
          "metadata": {
            "needs_background": "light"
          }
        }
      ],
      "source": [
        "model.eval()\n",
        "with torch.no_grad():\n",
        "    y_pred_valid_score = activation(model(X_valid))\n",
        "\n",
        "plot_precision_recall_curve(y_valid, y_pred_valid_score)"
      ]
    },
    {
      "cell_type": "markdown",
      "metadata": {
        "id": "vfQPIUQ_LAs2"
      },
      "source": [
        "Jak widać, chociaż AUROC jest wysokie, to dla optymalnego F1-score recall nie jest zbyt wysoki, a precyzja jest już dość niska. Być może wynik uda się poprawić, używając modelu o większej pojemności - pełnej, głębokiej sieci neuronowej."
      ]
    },
    {
      "cell_type": "markdown",
      "metadata": {
        "id": "WKfpymKs37CQ"
      },
      "source": [
        "## Sieci neuronowe"
      ]
    },
    {
      "cell_type": "markdown",
      "metadata": {
        "id": "YP298w6Cq7T6"
      },
      "source": [
        "Wszystko zaczęło się od inspirowanych biologią [sztucznych neuronów](https://en.wikipedia.org/wiki/Artificial_neuron), których próbowano użyć do symulacji mózgu. Naukowcy szybko odeszli od tego podejścia (sam problem modelowania okazał się też znacznie trudniejszy, niż sądzono), zamiast tego używając neuronów jako jednostek reprezentującą dowolną funkcję parametryczną $f(x, \\Theta)$. Każdy neuron jest zatem bardzo elastyczny, bo jedyne wymagania to funkcja różniczkowalna, a mamy do tego wektor parametrów $\\Theta$.\n",
        "\n",
        "W praktyce najczęściej można spotkać się z kilkoma rodzinami sieci neuronowych:\n",
        "1. Perceptrony wielowarstwowe (*MultiLayer Perceptron*, MLP) - najbardziej podobne do powyższego opisu, niezbędne do klasyfikacji i regresji\n",
        "2. Konwolucyjne (*Convolutional Neural Networks*, CNNs) - do przetwarzania danych z zależnościami przestrzennymi, np. obrazów czy dźwięku\n",
        "3. Rekurencyjne (*Recurrent Neural Networks*, RNNs) - do przetwarzania danych z zależnościami sekwencyjnymi, np. szeregi czasowe, oraz kiedyś do języka naturalnego\n",
        "4. Transformacyjne (*Transformers*), oparte o mechanizm atencji (*attention*) - do przetwarzania języka naturalnego (NLP), z którego wyparły RNNs, a coraz częściej także do wszelkich innych danych, np. obrazów, dźwięku\n",
        "5. Grafowe (*Graph Neural Networks*, GNNS) - do przetwarzania grafów\n",
        "\n",
        "Na tym laboratorium skupimy się na najprostszej architekturze, czyli MLP. Jest ona powszechnie łączona z wszelkimi innymi architekturami, bo pozwala dokonywać klasyfikacji i regresji. Przykładowo, klasyfikacja obrazów to zwykle CNN + MLP, klasyfikacja tekstów to transformer + MLP, a regresja na grafach to GNN + MLP.\n",
        "\n",
        "Dodatkowo, pomimo prostoty MLP są bardzo potężne - udowodniono, że perceptrony (ich powszechna nazwa) są [uniwersalnym aproksymatorem](https://www.sciencedirect.com/science/article/abs/pii/0893608089900208), będącym w stanie przybliżyć dowolną funkcję z odpowiednio małym błędem, zakładając wystarczającą wielkość warstw sieci. Szczególne ich wersje potrafią nawet [reprezentować drzewa decyzyjne](https://www.youtube.com/watch?v=_okxGdHM5b8).\n",
        "\n",
        "Dla zainteresowanych polecamy [doskonałą książkę \"Dive into Deep Learning\", z implementacjami w PyTorchu](https://d2l.ai/chapter_multilayer-perceptrons/index.html), [klasyczną książkę \"Deep Learning Book\"](https://www.deeplearningbook.org/contents/mlp.html), oraz [ten filmik](https://www.youtube.com/watch?v=BFHrIxKcLjA), jeśli zastanawiałeś/-aś się, czemu używamy deep learning, a nie naprzykład (wide?) learning. (aka. czemu staramy się budować głębokie sieci, a nie płytkie za to szerokie)"
      ]
    },
    {
      "cell_type": "markdown",
      "metadata": {
        "id": "S_ZjoGBU5upj"
      },
      "source": [
        "### Sieci MLP\n",
        "\n",
        "Dla przypomnienia, na wejściu mamy punkty ze zbioru treningowego, czyli $d$-wymiarowe wektory. W klasyfikacji chcemy znaleźć granicę decyzyjną, czyli krzywą, która oddzieli od siebie klasy. W wejściowej przestrzeni może być to trudne, bo chmury punktów z poszczególnych klas mogą być ze sobą dość pomieszane. Pamiętajmy też, że regresja logistyczna jest klasyfikatorem liniowym, czyli w danej przestrzeni potrafi oddzielić punkty tylko linią prostą.\n",
        "\n",
        "Sieć MLP składa się z warstw. Każda z nich dokonuje nieliniowego przekształcenia przestrzeni (można o tym myśleć jak o składaniu przestrzeni jakąś prostą/łamaną), tak, aby w finalnej przestrzeni nasze punkty były możliwie liniowo separowalne. Wtedy ostatnia warstwa z sigmoidą będzie potrafiła je rozdzielić od siebie.\n",
        "\n",
        "![1_x-3NGQv0pRIab8xDT-f_Hg.png](attachment:1_x-3NGQv0pRIab8xDT-f_Hg.png)\n",
        "\n",
        "Poszczególne neurony składają się z iloczynu skalarnego wejść z wagami neuronu, oraz nieliniowej funkcji aktywacji. W PyTorchu są to osobne obiekty - `nn.Linear` oraz np. `nn.Sigmoid`. Funkcja aktywacji przyjmuje wynik iloczynu skalarnego i przekształca go, aby sprawdzić, jak mocno reaguje neuron na dane wejście. Musi być nieliniowa z dwóch powodów. Po pierwsze, tylko nieliniowe przekształcenia są na tyle potężne, żeby umożliwić liniową separację danych w ostatniej warstwie. Po drugie, liniowe przekształcenia zwyczajnie nie działają. Aby zrozumieć czemu, trzeba zobaczyć, co matematycznie oznacza sieć MLP.\n",
        "\n",
        "![perceptron](https://www.saedsayad.com/images/Perceptron_bkp_1.png)\n",
        "\n",
        "Zapisane matematycznie MLP to:\n",
        "$\n",
        "h_1 = f_1(x) \\\\\n",
        "h_2 = f_2(h_1) \\\\\n",
        "h_3 = f_3(h_2) \\\\\n",
        "...\n",
        "h_n = f_n(h_{n-1})\n",
        "$\n",
        "gdzie $x$ to wejście $f_i$ to funkcja aktywacji $i$-tej warstwy, a $h_i$ to wyjście $i$-tej warstwy, nazywane **ukrytą reprezentacją (hidden representation)**, lub *latent representation*. Nazwa bierze się z tego, że w środku sieci wyciągamy cechy i wzorce w danych, które nie są widoczne na pierwszy rzut oka na wejściu.\n",
        "\n",
        "Załóżmy, że nie mamy funkcji aktywacji, czyli mamy aktywację liniową $f(x) = x$. Zobaczmy na początku sieci:\n",
        "$\n",
        "h_1 = f_1(x) = x\n",
        "h_2 = f_2(f_1) = f_2(x) = x\n",
        "...\n",
        "h_n = f_n(f_{n-1}) = f_n(x) = x\n",
        "$\n",
        "Jak widać, taka sieć niczego się nie nauczy. Wynika to z tego, że złożenie funkcji liniowych jest także funkcją liniową - patrz notatki z algebry :)\n",
        "\n",
        "Jeżeli natomiast użyjemy nieliniowej funkcji aktywacji, często oznaczanej jako $\\sigma$, to wszystko będzie działać. Co ważne, ostatnia warstwa, dająca wyjście sieci, ma zwykle inną aktywację od warstw wewnątrz sieci, bo też ma inne zadanie - zwrócić wartość dla klasyfikacji lub regresji. Na wyjściu korzysta się z funkcji liniowej (regresja), sigmoidalnej (klasyfikacja binarna) lub softmax (klasyfikacja wieloklasowa).\n",
        "\n",
        "Wewnątrz sieci używano kiedyś sigmoidy oraz tangensa hiperbolicznego `tanh`, ale okazało się to nieefektywne przy uczeniu głębokich sieci o wielu warstwach. Nowoczesne sieci korzystają zwykle z funkcji ReLU (*rectified linear unit*), która jest zaskakująco prosta: $ReLU(x) = \\max(0, x)$. Okazało się, że bardzo dobrze nadaje się do treningu nawet bardzo głębokich sieci neuronowych. Nowsze funkcje aktywacji są głównie modyfikacjami ReLU.\n",
        "\n",
        "![relu](https://www.nomidl.com/wp-content/uploads/2022/04/image-10.png)"
      ]
    },
    {
      "cell_type": "markdown",
      "metadata": {
        "id": "DnbvhAot37CQ"
      },
      "source": [
        "### MLP w PyTorchu\n",
        "\n",
        "Warstwę neuronów w MLP nazywa się warstwą gęstą (*dense layer*) lub warstwą w pełni połączoną (*fully-connected layer*), i taki opis oznacza zwykle same neurony oraz funkcję aktywacji. PyTorch, jak już widzieliśmy, definiuje osobno transformację liniową oraz aktywację, a więc jedna warstwa składa się de facto z 2 obiektów, wywoływanych jeden po drugim. Inne frameworki, szczególnie wysokopoziomowe (np. Keras) łączą to często w jeden obiekt.\n",
        "\n",
        "MLP składa się zatem z sekwencji obiektów, które potem wywołuje się jeden po drugim, gdzie wyjście poprzedniego to wejście kolejnego. Ale nie można tutaj używać Pythonowych list! Z perspektywy PyTorcha to wtedy niezależne obiekty i nie zostanie wtedy przekazany między nimi gradient. Trzeba tutaj skorzystać z `nn.Sequential`, aby tworzyć taki pipeline.\n",
        "\n",
        "Rozmiary wejścia i wyjścia dla każdej warstwy trzeba w PyTorchu podawać explicite. Jest to po pierwsze edukacyjne, a po drugie często ułatwia wnioskowanie o działaniu sieci oraz jej debugowanie - mamy jasno podane, czego oczekujemy. Niektóre frameworki (np. Keras) obliczają to automatycznie.\n",
        "\n",
        "Co ważne, ostatnia warstwa zwykle nie ma funkcji aktywacji. Wynika to z tego, że obliczanie wielu funkcji kosztu (np. entropii krzyżowej) na aktywacjach jest często niestabilne numerycznie. Z tego powodu PyTorch oferuje funkcje kosztu zawierające w środku aktywację dla ostatniej warstwy, a ich implementacje są stabilne numerycznie. Przykładowo, `nn.BCELoss` przyjmuje wejście z zaaplikowanymi już aktywacjami, ale może skutkować under/overflow, natomiast `nn.BCEWithLogitsLoss` przyjmuje wejście bez aktywacji, a w środku ma specjalną implementację łączącą binarną entropię krzyżową z aktywacją sigmoidalną. Oczywiście w związku z tym aby dokonać potem predykcji w praktyce, trzeba pamiętać o użyciu funkcji aktywacji. Często korzysta się przy tym z funkcji z modułu `torch.nn.functional`, które są w tym wypadku nieco wygodniejsze od klas wywoływalnych z `torch.nn`.\n",
        "\n",
        "Całe sieci w PyTorchu tworzy się jako klasy dziedziczące po `nn.Module`. Co ważne, obiekty, z których tworzymy sieć, np. `nn.Linear`, także dziedziczą po tej klasie. Pozwala to na bardzo modułową budowę kodu, zgodną z zasadami OOP. W konstruktorze najpierw trzeba zawsze wywołać konstruktor rodzica - `super().__init__()`, a później tworzy się potrzebne obiekty i zapisuje jako atrybuty. Musimy też zdefiniować metodę `forward()`, która przyjmuje tensor `x` i zwraca wynik. Typowo ta metoda po prostu używa obiektów zdefiniowanych w konstruktorze.\n",
        "\n",
        "\n",
        "**UWAGA: nigdy w normalnych warunkach się nie woła metody `forward` ręcznie**"
      ]
    },
    {
      "cell_type": "markdown",
      "metadata": {
        "id": "J8niDgExAMDO"
      },
      "source": [
        "#### Zadanie 4 (1 punkt)\n",
        "\n",
        "Uzupełnij implementację 3-warstwowej sieci MLP. Użyj rozmiarów:\n",
        "* pierwsza warstwa: input_size x 256\n",
        "* druga warstwa: 256 x 128\n",
        "* trzecia warstwa: 128 x 1\n",
        "\n",
        "Użyj funkcji aktywacji ReLU.\n",
        "\n",
        "Przydatne klasy:\n",
        "- `nn.Sequential`\n",
        "- `nn.Linear`\n",
        "- `nn.ReLU`"
      ]
    },
    {
      "cell_type": "code",
      "execution_count": 29,
      "metadata": {
        "id": "pZpuVDz1ALU5"
      },
      "outputs": [],
      "source": [
        "from torch import sigmoid\n",
        "\n",
        "class MLP(nn.Module):\n",
        "    def __init__(self, input_size: int):\n",
        "        super().__init__()\n",
        "\n",
        "        self.mlp = nn.Sequential(\n",
        "          nn.Linear(input_size, 256),\n",
        "          nn.ReLU(),\n",
        "          nn.Linear(256,128),\n",
        "          nn.ReLU(),\n",
        "          nn.Linear(128,1)\n",
        "        )\n",
        "\n",
        "    def forward(self, x):\n",
        "        return self.mlp(x)\n",
        "\n",
        "    def predict_proba(self, x):\n",
        "        return sigmoid(self(x))\n",
        "    \n",
        "    def predict(self, x):\n",
        "        y_pred_score = self.predict_proba(x)\n",
        "        return torch.argmax(y_pred_score, dim=1)\n"
      ]
    },
    {
      "cell_type": "code",
      "execution_count": 30,
      "metadata": {
        "id": "S1W6NEyr37CR",
        "colab": {
          "base_uri": "https://localhost:8080/"
        },
        "outputId": "2e6d6896-bb92-4d1d-bce7-53e114aeb8fb"
      },
      "outputs": [
        {
          "output_type": "stream",
          "name": "stdout",
          "text": [
            "Epoch 0 train loss: 0.7056\n",
            "Epoch 200 train loss: 0.6805\n",
            "Epoch 400 train loss: 0.6586\n",
            "Epoch 600 train loss: 0.6395\n",
            "Epoch 800 train loss: 0.6225\n",
            "Epoch 1000 train loss: 0.6074\n",
            "Epoch 1200 train loss: 0.5941\n",
            "Epoch 1400 train loss: 0.5822\n",
            "Epoch 1600 train loss: 0.5717\n",
            "Epoch 1800 train loss: 0.5623\n",
            "final loss: 0.5540\n"
          ]
        }
      ],
      "source": [
        "learning_rate = 1e-3\n",
        "model = MLP(input_size=X_train.shape[1])\n",
        "optimizer = torch.optim.SGD(model.parameters(), lr=learning_rate)\n",
        "\n",
        "# note that we are using loss function with sigmoid built in\n",
        "loss_fn = torch.nn.BCEWithLogitsLoss()\n",
        "num_epochs = 2000\n",
        "evaluation_steps = 200\n",
        "\n",
        "for i in range(num_epochs):\n",
        "    y_pred = model(X_train)\n",
        "    loss = loss_fn(y_pred, y_train)\n",
        "    loss.backward()\n",
        "\n",
        "    optimizer.step()\n",
        "    optimizer.zero_grad()\n",
        "\n",
        "    if i % evaluation_steps == 0:\n",
        "        print(f\"Epoch {i} train loss: {loss.item():.4f}\")\n",
        "\n",
        "print(f\"final loss: {loss.item():.4f}\")"
      ]
    },
    {
      "cell_type": "code",
      "execution_count": 31,
      "metadata": {
        "id": "LP5GSup24dXU",
        "colab": {
          "base_uri": "https://localhost:8080/",
          "height": 347
        },
        "outputId": "5601fd97-9fbf-4872-fb55-dbc2ce7f7ba7"
      },
      "outputs": [
        {
          "output_type": "stream",
          "name": "stdout",
          "text": [
            "AUROC: 78.46%\n"
          ]
        },
        {
          "output_type": "stream",
          "name": "stderr",
          "text": [
            "<ipython-input-27-c2d224030883>:9: RuntimeWarning: invalid value encountered in true_divide\n",
            "  f1_scores = 2 * precisions * recalls / (precisions + recalls)\n"
          ]
        },
        {
          "output_type": "display_data",
          "data": {
            "text/plain": [
              "<Figure size 432x288 with 1 Axes>"
            ],
            "image/png": "[encoded data removed]"
          },
          "metadata": {
            "needs_background": "light"
          }
        }
      ],
      "source": [
        "model.eval()\n",
        "with torch.no_grad():\n",
        "    # positive class probabilities\n",
        "    y_pred_valid_score = model.predict_proba(X_valid)\n",
        "    y_pred_test_score = model.predict_proba(X_test)\n",
        "\n",
        "auroc = roc_auc_score(y_test, y_pred_test_score)\n",
        "print(f\"AUROC: {100 * auroc:.2f}%\")\n",
        "\n",
        "plot_precision_recall_curve(y_valid, y_pred_valid_score)"
      ]
    },
    {
      "cell_type": "markdown",
      "metadata": {
        "id": "doZhq99337CR"
      },
      "source": [
        "AUROC jest podobne, a precision i recall spadły - wypadamy wręcz gorzej od regresji liniowej! Skoro dodaliśmy więcej warstw, to może pojemność modelu jest teraz za duża i trzeba by go zregularyzować?\n",
        "\n",
        "Sieci neuronowe bardzo łatwo przeuczają, bo są bardzo elastycznymi i pojemnymi modelami. Dlatego mają wiele różnych rodzajów regularyzacji, których używa się razem. Co ciekawe, udowodniono eksperymentalnie, że zbyt duże sieci z mocną regularyzacją działają lepiej niż mniejsze sieci, odpowiedniego rozmiaru, za to ze słabszą regularyzacją.\n",
        "\n",
        "Pierwszy rodzaj regularyzacji to znana nam już **regularyzacja L2**, czyli penalizacja zbyt dużych wag. W kontekście sieci neuronowych nazywa się też ją czasem *weight decay*. W PyTorchu dodaje się ją jako argument do optymalizatora.\n",
        "\n",
        "Regularyzacja specyficzna dla sieci neuronowych to **dropout**. Polega on na losowym wyłączaniu zadanego procenta neuronów podczas treningu. Pomimo prostoty okazała się niesamowicie skuteczna, szczególnie w treningu bardzo głębokich sieci. Co ważne, jest to mechanizm używany tylko podczas treningu - w trakcie predykcji za pomocą sieci wyłącza się ten mechanizm i dokonuje normalnie predykcji całą siecią. Podejście to można potraktować jak ensemble learning, podobny do lasów losowych - wyłączając losowe części sieci, w każdej iteracji trenujemy nieco inną sieć, co odpowiada uśrednianiu predykcji różnych algorytmów. Typowo stosuje się dość mocny dropout, rzędu 25-50%. W PyTorchu implementuje go warstwa `nn.Dropout`, aplikowana zazwyczaj po funkcji aktywacji.\n",
        "\n",
        "Ostatni, a być może najważniejszy rodzaj regularyzacji to **wczesny stop (early stopping)**. W każdym kroku mocniej dostosowujemy terenową sieć do zbioru treningowego, a więc zbyt długi trening będzie skutkował przeuczeniem. W metodzie wczesnego stopu używamy wydzielonego zbioru walidacyjnego (pojedynczego, metoda holdout), sprawdzając co określoną liczbę epok wynik na tym zbiorze. Jeżeli nie uzyskamy wyniku lepszego od najlepszego dotychczas uzyskanego przez określoną liczbę epok, to przerywamy trening. Okres, przez który czekamy na uzyskanie lepszego wyniku, to cierpliwość (*patience*). Im mniejsze, tym mocniejszy jest ten rodzaj regularyzacji, ale trzeba z tym uważać, bo łatwo jest przesadzić i zbyt szybko przerywać trening. Niektóre implementacje uwzględniają tzw. *grace period*, czyli gwarantowaną minimalną liczbę epok, przez którą będziemy trenować sieć, niezależnie od wybranej cierpliwości.\n",
        "\n",
        "Dodatkowo ryzyko przeuczenia można zmniejszyć, używając mniejszej stałej uczącej."
      ]
    },
    {
      "cell_type": "markdown",
      "metadata": {
        "id": "0vfA_v9H37CR"
      },
      "source": [
        "#### Zadanie 5 (1 punkt)\n",
        "\n",
        "Zaimplementuj funkcję `evaluate_model()`, obliczającą metryki na zbiorze testowym:\n",
        "- wartość funkcji kosztu (loss)\n",
        "- AUROC\n",
        "- optymalny próg\n",
        "- F1-score przy optymalnym progu\n",
        "- precyzję oraz recall dla optymalnego progu\n",
        "\n",
        "Jeżeli podana jest wartość argumentu `threshold`, to użyj jej do zamiany prawdopodobieństw na twarde predykcje. W przeciwnym razie użyj funkcji `get_optimal_threshold` i oblicz optymalną wartość progu.\n",
        "\n",
        "Pamiętaj o przełączeniu modelu w tryb ewaluacji oraz o wyłączeniu obliczania gradientów."
      ]
    },
    {
      "cell_type": "code",
      "execution_count": 32,
      "metadata": {
        "id": "PKJJ1kt737CR"
      },
      "outputs": [],
      "source": [
        "from typing import Optional\n",
        "\n",
        "from sklearn.metrics import precision_score, recall_score, f1_score\n",
        "from torch import sigmoid\n",
        "\n",
        "def evaluate_model(\n",
        "    model: nn.Module, \n",
        "    X: torch.Tensor, \n",
        "    y: torch.Tensor, \n",
        "    loss_fn: nn.Module,\n",
        "    threshold: Optional[float]= None\n",
        ") -> Dict[str, float]:\n",
        "    # implement me!\n",
        "    model.eval()\n",
        "#     raise NotImplementedError\n",
        "    with torch.no_grad():\n",
        "        y_pred_test_score = model.predict_proba(X)\n",
        "\n",
        "\n",
        "    auroc = roc_auc_score(y, y_pred_test_score)\n",
        "    \n",
        "    control_f1 = None\n",
        "    control_precision = None\n",
        "    control_recall = None\n",
        "    \n",
        "    if threshold is None:\n",
        "        precisions, recalls, thresholds = precision_recall_curve(y, y_pred_test_score)\n",
        "        index, threshold = get_optimal_threshold(precisions, recalls, thresholds)\n",
        "        control_f1 = 2 * precisions[index] * recalls[index] / (precisions[index] + recalls[index])\n",
        "        control_precision = precisions[index]\n",
        "        control_recall = recalls[index]\n",
        "    \n",
        "    y_pred = model(X)\n",
        "    \n",
        "    loss = loss_fn(y_pred, y)\n",
        "    \n",
        "    sigmoid = nn.Sigmoid()\n",
        "    pred_with_sigmoid = sigmoid(y_pred)\n",
        "    \n",
        "    \n",
        "    tp = 0\n",
        "    fp = 0\n",
        "    fn = 0\n",
        "    \n",
        "#     print(pred_with_sigmoid.size(dim=0), pred_with_sigmoid, pred_with_sigmoid[3,0])\n",
        "    \n",
        "    for ind in range(pred_with_sigmoid.size(dim=0)):\n",
        "        predicted_res = pred_with_sigmoid[ind,0].tolist()\n",
        "        true_res = y[ind,0].tolist()\n",
        "#         print(\"predicted: \",predicted_res,\", true: \",true_res,\", threshold: \",threshold)\n",
        "        \n",
        "        if true_res == 1 and predicted_res >= threshold:\n",
        "            tp += 1\n",
        "        \n",
        "        elif true_res == 1 and predicted_res < threshold:\n",
        "            fn += 1\n",
        "        \n",
        "        elif true_res == 1 and predicted_res >= threshold:\n",
        "            fp += 1\n",
        "        \n",
        "        \n",
        "    precision = tp / (tp + fp)\n",
        "    recall = tp / (tp + fn)\n",
        "    \n",
        "    \n",
        "\n",
        "    f1 = 2 * precision * recall / (precision + recall)\n",
        "    \n",
        "    results = {\n",
        "        \"loss\": loss,\n",
        "        \"AUROC\": auroc,\n",
        "        \"optimal_threshold\": threshold,\n",
        "        \"precision\": precision,\n",
        "        \"recall\": recall,\n",
        "        \"F1-score\": f1,\n",
        "        \"test-F1-score\": control_f1,\n",
        "        \"test_precision\": control_precision,\n",
        "        \"test_recall\": control_recall,\n",
        "        \n",
        "    }\n",
        "    return results\n"
      ]
    },
    {
      "cell_type": "markdown",
      "metadata": {
        "id": "N2hiB5Qn37CR"
      },
      "source": [
        "#### Zadanie 6 (1 punkt)\n",
        "\n",
        "Zaimplementuj 3-warstwową sieć MLP z regularyzacją L2 oraz dropout (50%). Rozmiary warstw ukrytych mają wynosić 256 i 128."
      ]
    },
    {
      "cell_type": "code",
      "execution_count": 33,
      "metadata": {
        "id": "S3Seu6y637CR"
      },
      "outputs": [],
      "source": [
        "class RegularizedMLP(nn.Module):\n",
        "    def __init__(self, input_size: int, dropout_p: float = 0.5):\n",
        "        super().__init__()\n",
        "\n",
        "        self.mlp = nn.Sequential(\n",
        "          nn.Linear(input_size, 256),\n",
        "          nn.ReLU(),\n",
        "          nn.Dropout(p = dropout_p),\n",
        "          nn.Linear(256,128),\n",
        "          nn.ReLU(),\n",
        "          nn.Dropout(p = dropout_p),\n",
        "          nn.Linear(128,1)\n",
        "        )\n",
        "    \n",
        "    def forward(self, x):\n",
        "        # implement me!\n",
        "        return self.mlp(x)\n",
        "\n",
        "    def predict_proba(self, x):\n",
        "        return sigmoid(self(x))\n",
        "    \n",
        "    def predict(self, x):\n",
        "        y_pred_score = self.predict_proba(x)\n",
        "        return torch.argmax(y_pred_score, dim=1)"
      ]
    },
    {
      "cell_type": "markdown",
      "metadata": {
        "id": "rEk9azaULAsz"
      },
      "source": [
        "Opisaliśmy wcześniej podstawowy optymalizator w sieciach neuronowych - spadek wzdłuż gradientu. Jednak wymaga on użycia całego zbioru danych, aby obliczyć gradient, co jest często niewykonalne przez rozmiar zbioru. Dlatego wymyślono **stochastyczny spadek wzdłuż gradientu (stochastic gradient descent, SGD)**, w którym używamy 1 przykładu naraz, liczymy gradient tylko po nim i aktualizujemy parametry. Jest to oczywiście dość grube przybliżenie gradientu, ale pozwala robić szybko dużo małych kroków. Kompromisem, którego używa się w praktyce, jest **minibatch gradient descent**, czyli używanie batchy np. 32, 64 czy 128 przykładów.\n",
        "\n",
        "Rzadko wspominanym, a ważnym faktem jest także to, że stochastyczność metody optymalizacji jest sama w sobie też [metodą regularyzacji](https://arxiv.org/abs/2101.12176), a więc `batch_size` to także hiperparametr.\n",
        "\n",
        "Obecnie najpopularniejszą odmianą SGD jest [Adam](https://arxiv.org/abs/1412.6980), gdyż uczy on szybko sieć oraz daje bardzo dobre wyniki nawet przy niekoniecznie idealnie dobranych hiperparametrach. W PyTorchu najlepiej korzystać z jego implementacji `AdamW`, która jest nieco lepsza niż implementacja `Adam`. Jest to zasadniczo zawsze wybór domyślny przy treningu współczesnych sieci neuronowych.\n",
        "\n",
        "Na razie użyjemy jednak minibatch SGD."
      ]
    },
    {
      "cell_type": "markdown",
      "metadata": {
        "id": "UGOGpBp-37CS"
      },
      "source": [
        "Poniżej znajduje się implementacja prostej klasy dziedziczącej po `Dataset` - tak w PyTorchu implementuje się własne zbiory danych. Użycie takich klas umożliwia użycie klas ładujących dane (`DataLoader`), które z kolei pozwalają łatwo ładować batche danych. Trzeba w takiej klasie zaimplementować metody:\n",
        "- `__len__` - zwraca ilość punktów w zbiorze\n",
        "- `__getitem__` - zwraca przykład ze zbioru pod danym indeksem oraz jego klasę\n"
      ]
    },
    {
      "cell_type": "code",
      "execution_count": 34,
      "metadata": {
        "id": "1yCjj48S37CS"
      },
      "outputs": [],
      "source": [
        "from torch.utils.data import Dataset\n",
        "\n",
        "class MyDataset(Dataset):\n",
        "    def __init__(self, data, y):\n",
        "        super().__init__()\n",
        "        \n",
        "        self.data = data\n",
        "        self.y = y\n",
        "    \n",
        "    def __len__(self):\n",
        "        return self.data.shape[0]\n",
        "    \n",
        "    def __getitem__(self, idx):\n",
        "        return self.data[idx], self.y[idx]\n"
      ]
    },
    {
      "cell_type": "markdown",
      "metadata": {
        "id": "LMRDVXII37CS"
      },
      "source": [
        "#### Zadanie 7 (2 punkty)\n",
        "\n",
        "Zaimplementuj pętlę treningowo-walidacyjną dla sieci neuronowej. Wykorzystaj podane wartości hiperparametrów do treningu (stała ucząca, prawdopodobieństwo dropoutu, regularyzacja L2, rozmiar batcha, maksymalna liczba epok). Użyj optymalizatora SGD.\n",
        "\n",
        "Dodatkowo zaimplementuj regularyzację przez early stopping. Sprawdzaj co epokę wynik na zbiorze walidacyjnym. Użyj podanej wartości patience, a jako metryki po prostu wartości funkcji kosztu. Może się tutaj przydać zaimplementowana funkcja `evaluate_model()`.\n",
        "\n",
        "Pamiętaj o tym, aby przechowywać najlepszy dotychczasowy wynik walidacyjny oraz najlepszy dotychczasowy model. Zapamiętaj też optymalny próg do klasyfikacji dla najlepszego modelu."
      ]
    },
    {
      "cell_type": "code",
      "execution_count": 35,
      "metadata": {
        "id": "dOI3IwyW37CS"
      },
      "outputs": [],
      "source": [
        "from copy import deepcopy\n",
        "\n",
        "from torch.utils.data import DataLoader\n",
        "\n",
        "\n",
        "learning_rate = 1e-3\n",
        "dropout_p = 0.5\n",
        "l2_reg = 1e-4\n",
        "batch_size = 128\n",
        "max_epochs = 300\n",
        "\n",
        "early_stopping_patience = 4"
      ]
    },
    {
      "cell_type": "code",
      "execution_count": 36,
      "metadata": {
        "scrolled": true,
        "id": "YILih_lV37CS",
        "colab": {
          "base_uri": "https://localhost:8080/"
        },
        "outputId": "1c9c304d-473d-415c-ef17-11e68ad58a65"
      },
      "outputs": [
        {
          "output_type": "stream",
          "name": "stderr",
          "text": [
            "<ipython-input-27-c2d224030883>:9: RuntimeWarning: invalid value encountered in true_divide\n",
            "  f1_scores = 2 * precisions * recalls / (precisions + recalls)\n"
          ]
        },
        {
          "output_type": "stream",
          "name": "stdout",
          "text": [
            "Epoch 0 train loss: 0.6828, eval loss 0.6865559816360474, currently_best_loss 0.6865559816360474, steps_without_imporvement 0\n",
            "Epoch 1 train loss: 0.6666, eval loss 0.667351484298706, currently_best_loss 0.667351484298706, steps_without_imporvement 0\n",
            "Epoch 2 train loss: 0.6500, eval loss 0.650563657283783, currently_best_loss 0.650563657283783, steps_without_imporvement 0\n"
          ]
        },
        {
          "output_type": "stream",
          "name": "stderr",
          "text": [
            "<ipython-input-27-c2d224030883>:9: RuntimeWarning: invalid value encountered in true_divide\n",
            "  f1_scores = 2 * precisions * recalls / (precisions + recalls)\n"
          ]
        },
        {
          "output_type": "stream",
          "name": "stdout",
          "text": [
            "Epoch 3 train loss: 0.6369, eval loss 0.6357285380363464, currently_best_loss 0.6357285380363464, steps_without_imporvement 0\n"
          ]
        },
        {
          "output_type": "stream",
          "name": "stderr",
          "text": [
            "<ipython-input-27-c2d224030883>:9: RuntimeWarning: invalid value encountered in true_divide\n",
            "  f1_scores = 2 * precisions * recalls / (precisions + recalls)\n"
          ]
        },
        {
          "output_type": "stream",
          "name": "stdout",
          "text": [
            "Epoch 4 train loss: 0.6204, eval loss 0.6225549578666687, currently_best_loss 0.6225549578666687, steps_without_imporvement 0\n",
            "Epoch 5 train loss: 0.6048, eval loss 0.6107776761054993, currently_best_loss 0.6107776761054993, steps_without_imporvement 0\n",
            "Epoch 6 train loss: 0.5869, eval loss 0.6001865267753601, currently_best_loss 0.6001865267753601, steps_without_imporvement 0\n",
            "Epoch 7 train loss: 0.5798, eval loss 0.5906473994255066, currently_best_loss 0.5906473994255066, steps_without_imporvement 0\n",
            "Epoch 8 train loss: 0.5653, eval loss 0.5820735096931458, currently_best_loss 0.5820735096931458, steps_without_imporvement 0\n",
            "Epoch 9 train loss: 0.5650, eval loss 0.5743409395217896, currently_best_loss 0.5743409395217896, steps_without_imporvement 0\n",
            "Epoch 10 train loss: 0.5629, eval loss 0.567280650138855, currently_best_loss 0.567280650138855, steps_without_imporvement 0\n",
            "Epoch 11 train loss: 0.5590, eval loss 0.5609174370765686, currently_best_loss 0.5609174370765686, steps_without_imporvement 0\n",
            "Epoch 12 train loss: 0.5576, eval loss 0.555107831954956, currently_best_loss 0.555107831954956, steps_without_imporvement 0\n",
            "Epoch 13 train loss: 0.5341, eval loss 0.5497086048126221, currently_best_loss 0.5497086048126221, steps_without_imporvement 0\n",
            "Epoch 14 train loss: 0.5421, eval loss 0.5447130799293518, currently_best_loss 0.5447130799293518, steps_without_imporvement 0\n",
            "Epoch 15 train loss: 0.5357, eval loss 0.5400415062904358, currently_best_loss 0.5400415062904358, steps_without_imporvement 0\n",
            "Epoch 16 train loss: 0.5307, eval loss 0.5356205105781555, currently_best_loss 0.5356205105781555, steps_without_imporvement 0\n",
            "Epoch 17 train loss: 0.5210, eval loss 0.5314202308654785, currently_best_loss 0.5314202308654785, steps_without_imporvement 0\n",
            "Epoch 18 train loss: 0.5200, eval loss 0.5274030566215515, currently_best_loss 0.5274030566215515, steps_without_imporvement 0\n",
            "Epoch 19 train loss: 0.5206, eval loss 0.5235114693641663, currently_best_loss 0.5235114693641663, steps_without_imporvement 0\n",
            "Epoch 20 train loss: 0.5280, eval loss 0.5196961164474487, currently_best_loss 0.5196961164474487, steps_without_imporvement 0\n",
            "Epoch 21 train loss: 0.5085, eval loss 0.5159594416618347, currently_best_loss 0.5159594416618347, steps_without_imporvement 0\n",
            "Epoch 22 train loss: 0.5125, eval loss 0.5122610926628113, currently_best_loss 0.5122610926628113, steps_without_imporvement 0\n",
            "Epoch 23 train loss: 0.5014, eval loss 0.5085949897766113, currently_best_loss 0.5085949897766113, steps_without_imporvement 0\n",
            "Epoch 24 train loss: 0.4954, eval loss 0.5049545764923096, currently_best_loss 0.5049545764923096, steps_without_imporvement 0\n",
            "Epoch 25 train loss: 0.4903, eval loss 0.501305878162384, currently_best_loss 0.501305878162384, steps_without_imporvement 0\n",
            "Epoch 26 train loss: 0.5089, eval loss 0.4976813793182373, currently_best_loss 0.4976813793182373, steps_without_imporvement 0\n",
            "Epoch 27 train loss: 0.4978, eval loss 0.4940514862537384, currently_best_loss 0.4940514862537384, steps_without_imporvement 0\n",
            "Epoch 28 train loss: 0.4909, eval loss 0.4904213845729828, currently_best_loss 0.4904213845729828, steps_without_imporvement 0\n",
            "Epoch 29 train loss: 0.4954, eval loss 0.48677507042884827, currently_best_loss 0.48677507042884827, steps_without_imporvement 0\n",
            "Epoch 30 train loss: 0.4825, eval loss 0.483096182346344, currently_best_loss 0.483096182346344, steps_without_imporvement 0\n",
            "Epoch 31 train loss: 0.4974, eval loss 0.4794479012489319, currently_best_loss 0.4794479012489319, steps_without_imporvement 0\n",
            "Epoch 32 train loss: 0.4704, eval loss 0.47576916217803955, currently_best_loss 0.47576916217803955, steps_without_imporvement 0\n",
            "Epoch 33 train loss: 0.4913, eval loss 0.47210919857025146, currently_best_loss 0.47210919857025146, steps_without_imporvement 0\n",
            "Epoch 34 train loss: 0.4697, eval loss 0.46843788027763367, currently_best_loss 0.46843788027763367, steps_without_imporvement 0\n",
            "Epoch 35 train loss: 0.4683, eval loss 0.4648091793060303, currently_best_loss 0.4648091793060303, steps_without_imporvement 0\n",
            "Epoch 36 train loss: 0.4810, eval loss 0.4611895680427551, currently_best_loss 0.4611895680427551, steps_without_imporvement 0\n",
            "Epoch 37 train loss: 0.4604, eval loss 0.4575912654399872, currently_best_loss 0.4575912654399872, steps_without_imporvement 0\n",
            "Epoch 38 train loss: 0.4502, eval loss 0.45403435826301575, currently_best_loss 0.45403435826301575, steps_without_imporvement 0\n",
            "Epoch 39 train loss: 0.4541, eval loss 0.4505068361759186, currently_best_loss 0.4505068361759186, steps_without_imporvement 0\n",
            "Epoch 40 train loss: 0.4449, eval loss 0.4470495581626892, currently_best_loss 0.4470495581626892, steps_without_imporvement 0\n",
            "Epoch 41 train loss: 0.4411, eval loss 0.4436275064945221, currently_best_loss 0.4436275064945221, steps_without_imporvement 0\n",
            "Epoch 42 train loss: 0.4515, eval loss 0.4402810037136078, currently_best_loss 0.4402810037136078, steps_without_imporvement 0\n",
            "Epoch 43 train loss: 0.4539, eval loss 0.43696102499961853, currently_best_loss 0.43696102499961853, steps_without_imporvement 0\n",
            "Epoch 44 train loss: 0.4498, eval loss 0.4337122142314911, currently_best_loss 0.4337122142314911, steps_without_imporvement 0\n",
            "Epoch 45 train loss: 0.4341, eval loss 0.4305015504360199, currently_best_loss 0.4305015504360199, steps_without_imporvement 0\n",
            "Epoch 46 train loss: 0.4415, eval loss 0.42739778757095337, currently_best_loss 0.42739778757095337, steps_without_imporvement 0\n",
            "Epoch 47 train loss: 0.4422, eval loss 0.42435547709465027, currently_best_loss 0.42435547709465027, steps_without_imporvement 0\n",
            "Epoch 48 train loss: 0.4442, eval loss 0.42139631509780884, currently_best_loss 0.42139631509780884, steps_without_imporvement 0\n",
            "Epoch 49 train loss: 0.4361, eval loss 0.41850605607032776, currently_best_loss 0.41850605607032776, steps_without_imporvement 0\n",
            "Epoch 50 train loss: 0.4389, eval loss 0.4156789779663086, currently_best_loss 0.4156789779663086, steps_without_imporvement 0\n",
            "Epoch 51 train loss: 0.4416, eval loss 0.4129578173160553, currently_best_loss 0.4129578173160553, steps_without_imporvement 0\n",
            "Epoch 52 train loss: 0.4164, eval loss 0.41030025482177734, currently_best_loss 0.41030025482177734, steps_without_imporvement 0\n",
            "Epoch 53 train loss: 0.4215, eval loss 0.40771475434303284, currently_best_loss 0.40771475434303284, steps_without_imporvement 0\n",
            "Epoch 54 train loss: 0.4045, eval loss 0.4051731526851654, currently_best_loss 0.4051731526851654, steps_without_imporvement 0\n",
            "Epoch 55 train loss: 0.4371, eval loss 0.4027383029460907, currently_best_loss 0.4027383029460907, steps_without_imporvement 0\n",
            "Epoch 56 train loss: 0.4012, eval loss 0.4003918766975403, currently_best_loss 0.4003918766975403, steps_without_imporvement 0\n",
            "Epoch 57 train loss: 0.4330, eval loss 0.39813268184661865, currently_best_loss 0.39813268184661865, steps_without_imporvement 0\n",
            "Epoch 58 train loss: 0.4136, eval loss 0.39596107602119446, currently_best_loss 0.39596107602119446, steps_without_imporvement 0\n",
            "Epoch 59 train loss: 0.4038, eval loss 0.3938455879688263, currently_best_loss 0.3938455879688263, steps_without_imporvement 0\n",
            "Epoch 60 train loss: 0.4054, eval loss 0.3918101489543915, currently_best_loss 0.3918101489543915, steps_without_imporvement 0\n",
            "Epoch 61 train loss: 0.4234, eval loss 0.3898542821407318, currently_best_loss 0.3898542821407318, steps_without_imporvement 0\n",
            "Epoch 62 train loss: 0.3927, eval loss 0.38797324895858765, currently_best_loss 0.38797324895858765, steps_without_imporvement 0\n",
            "Epoch 63 train loss: 0.4135, eval loss 0.3861379027366638, currently_best_loss 0.3861379027366638, steps_without_imporvement 0\n",
            "Epoch 64 train loss: 0.4307, eval loss 0.38438573479652405, currently_best_loss 0.38438573479652405, steps_without_imporvement 0\n",
            "Epoch 65 train loss: 0.4071, eval loss 0.38269564509391785, currently_best_loss 0.38269564509391785, steps_without_imporvement 0\n",
            "Epoch 66 train loss: 0.4088, eval loss 0.38108891248703003, currently_best_loss 0.38108891248703003, steps_without_imporvement 0\n",
            "Epoch 67 train loss: 0.4036, eval loss 0.3795665204524994, currently_best_loss 0.3795665204524994, steps_without_imporvement 0\n",
            "Epoch 68 train loss: 0.4270, eval loss 0.3780822455883026, currently_best_loss 0.3780822455883026, steps_without_imporvement 0\n",
            "Epoch 69 train loss: 0.4133, eval loss 0.37668710947036743, currently_best_loss 0.37668710947036743, steps_without_imporvement 0\n",
            "Epoch 70 train loss: 0.4007, eval loss 0.37532612681388855, currently_best_loss 0.37532612681388855, steps_without_imporvement 0\n",
            "Epoch 71 train loss: 0.4226, eval loss 0.37401285767555237, currently_best_loss 0.37401285767555237, steps_without_imporvement 0\n",
            "Epoch 72 train loss: 0.3980, eval loss 0.3727980852127075, currently_best_loss 0.3727980852127075, steps_without_imporvement 0\n",
            "Epoch 73 train loss: 0.3969, eval loss 0.3716382384300232, currently_best_loss 0.3716382384300232, steps_without_imporvement 0\n",
            "Epoch 74 train loss: 0.3987, eval loss 0.37050482630729675, currently_best_loss 0.37050482630729675, steps_without_imporvement 0\n",
            "Epoch 75 train loss: 0.4023, eval loss 0.36944371461868286, currently_best_loss 0.36944371461868286, steps_without_imporvement 0\n",
            "Epoch 76 train loss: 0.4025, eval loss 0.3684469759464264, currently_best_loss 0.3684469759464264, steps_without_imporvement 0\n",
            "Epoch 77 train loss: 0.3905, eval loss 0.3674960136413574, currently_best_loss 0.3674960136413574, steps_without_imporvement 0\n",
            "Epoch 78 train loss: 0.4086, eval loss 0.3665738105773926, currently_best_loss 0.3665738105773926, steps_without_imporvement 0\n",
            "Epoch 79 train loss: 0.4156, eval loss 0.36569470167160034, currently_best_loss 0.36569470167160034, steps_without_imporvement 0\n",
            "Epoch 80 train loss: 0.3944, eval loss 0.3648744225502014, currently_best_loss 0.3648744225502014, steps_without_imporvement 0\n",
            "Epoch 81 train loss: 0.3881, eval loss 0.36406517028808594, currently_best_loss 0.36406517028808594, steps_without_imporvement 0\n",
            "Epoch 82 train loss: 0.4091, eval loss 0.36330243945121765, currently_best_loss 0.36330243945121765, steps_without_imporvement 0\n",
            "Epoch 83 train loss: 0.3901, eval loss 0.36259087920188904, currently_best_loss 0.36259087920188904, steps_without_imporvement 0\n",
            "Epoch 84 train loss: 0.3961, eval loss 0.36189988255500793, currently_best_loss 0.36189988255500793, steps_without_imporvement 0\n",
            "Epoch 85 train loss: 0.4224, eval loss 0.36124545335769653, currently_best_loss 0.36124545335769653, steps_without_imporvement 0\n",
            "Epoch 86 train loss: 0.4040, eval loss 0.3606104850769043, currently_best_loss 0.3606104850769043, steps_without_imporvement 0\n",
            "Epoch 87 train loss: 0.4125, eval loss 0.3600093722343445, currently_best_loss 0.3600093722343445, steps_without_imporvement 0\n",
            "Epoch 88 train loss: 0.3992, eval loss 0.359443336725235, currently_best_loss 0.359443336725235, steps_without_imporvement 0\n",
            "Epoch 89 train loss: 0.3741, eval loss 0.35888582468032837, currently_best_loss 0.35888582468032837, steps_without_imporvement 0\n",
            "Epoch 90 train loss: 0.4092, eval loss 0.35836419463157654, currently_best_loss 0.35836419463157654, steps_without_imporvement 0\n",
            "Epoch 91 train loss: 0.3796, eval loss 0.3578473627567291, currently_best_loss 0.3578473627567291, steps_without_imporvement 0\n",
            "Epoch 92 train loss: 0.3883, eval loss 0.35736221075057983, currently_best_loss 0.35736221075057983, steps_without_imporvement 0\n",
            "Epoch 93 train loss: 0.3843, eval loss 0.3568926453590393, currently_best_loss 0.3568926453590393, steps_without_imporvement 0\n",
            "Epoch 94 train loss: 0.3831, eval loss 0.35644617676734924, currently_best_loss 0.35644617676734924, steps_without_imporvement 0\n",
            "Epoch 95 train loss: 0.4169, eval loss 0.35601526498794556, currently_best_loss 0.35601526498794556, steps_without_imporvement 0\n",
            "Epoch 96 train loss: 0.3952, eval loss 0.35559719800949097, currently_best_loss 0.35559719800949097, steps_without_imporvement 0\n",
            "Epoch 97 train loss: 0.4296, eval loss 0.35519716143608093, currently_best_loss 0.35519716143608093, steps_without_imporvement 0\n",
            "Epoch 98 train loss: 0.3866, eval loss 0.3548191487789154, currently_best_loss 0.3548191487789154, steps_without_imporvement 0\n",
            "Epoch 99 train loss: 0.3899, eval loss 0.35443076491355896, currently_best_loss 0.35443076491355896, steps_without_imporvement 0\n",
            "Epoch 100 train loss: 0.3939, eval loss 0.35407161712646484, currently_best_loss 0.35407161712646484, steps_without_imporvement 0\n",
            "Epoch 101 train loss: 0.4226, eval loss 0.3537178635597229, currently_best_loss 0.3537178635597229, steps_without_imporvement 0\n",
            "Epoch 102 train loss: 0.3870, eval loss 0.3533743917942047, currently_best_loss 0.3533743917942047, steps_without_imporvement 0\n",
            "Epoch 103 train loss: 0.4262, eval loss 0.353069931268692, currently_best_loss 0.353069931268692, steps_without_imporvement 0\n",
            "Epoch 104 train loss: 0.3906, eval loss 0.35273173451423645, currently_best_loss 0.35273173451423645, steps_without_imporvement 0\n",
            "Epoch 105 train loss: 0.3644, eval loss 0.3524135947227478, currently_best_loss 0.3524135947227478, steps_without_imporvement 0\n",
            "Epoch 106 train loss: 0.3992, eval loss 0.35211002826690674, currently_best_loss 0.35211002826690674, steps_without_imporvement 0\n",
            "Epoch 107 train loss: 0.3924, eval loss 0.3517893850803375, currently_best_loss 0.3517893850803375, steps_without_imporvement 0\n",
            "Epoch 108 train loss: 0.3970, eval loss 0.35150086879730225, currently_best_loss 0.35150086879730225, steps_without_imporvement 0\n",
            "Epoch 109 train loss: 0.4042, eval loss 0.35119980573654175, currently_best_loss 0.35119980573654175, steps_without_imporvement 0\n",
            "Epoch 110 train loss: 0.3970, eval loss 0.35093292593955994, currently_best_loss 0.35093292593955994, steps_without_imporvement 0\n",
            "Epoch 111 train loss: 0.4099, eval loss 0.3506590723991394, currently_best_loss 0.3506590723991394, steps_without_imporvement 0\n",
            "Epoch 112 train loss: 0.4047, eval loss 0.3503931164741516, currently_best_loss 0.3503931164741516, steps_without_imporvement 0\n",
            "Epoch 113 train loss: 0.4012, eval loss 0.35012269020080566, currently_best_loss 0.35012269020080566, steps_without_imporvement 0\n",
            "Epoch 114 train loss: 0.4193, eval loss 0.3498704731464386, currently_best_loss 0.3498704731464386, steps_without_imporvement 0\n",
            "Epoch 115 train loss: 0.3803, eval loss 0.3496330976486206, currently_best_loss 0.3496330976486206, steps_without_imporvement 0\n",
            "Epoch 116 train loss: 0.4308, eval loss 0.34937864542007446, currently_best_loss 0.34937864542007446, steps_without_imporvement 0\n",
            "Epoch 117 train loss: 0.4044, eval loss 0.3491433560848236, currently_best_loss 0.3491433560848236, steps_without_imporvement 0\n",
            "Epoch 118 train loss: 0.3763, eval loss 0.34888920187950134, currently_best_loss 0.34888920187950134, steps_without_imporvement 0\n",
            "Epoch 119 train loss: 0.3982, eval loss 0.3486500680446625, currently_best_loss 0.3486500680446625, steps_without_imporvement 0\n",
            "Epoch 120 train loss: 0.3569, eval loss 0.3484053313732147, currently_best_loss 0.3484053313732147, steps_without_imporvement 0\n",
            "Epoch 121 train loss: 0.3795, eval loss 0.3481799066066742, currently_best_loss 0.3481799066066742, steps_without_imporvement 0\n",
            "Epoch 122 train loss: 0.3974, eval loss 0.34794482588768005, currently_best_loss 0.34794482588768005, steps_without_imporvement 0\n",
            "Epoch 123 train loss: 0.3886, eval loss 0.3477211594581604, currently_best_loss 0.3477211594581604, steps_without_imporvement 0\n",
            "Epoch 124 train loss: 0.3728, eval loss 0.34748947620391846, currently_best_loss 0.34748947620391846, steps_without_imporvement 0\n",
            "Epoch 125 train loss: 0.4056, eval loss 0.3472762107849121, currently_best_loss 0.3472762107849121, steps_without_imporvement 0\n",
            "Epoch 126 train loss: 0.4329, eval loss 0.34707286953926086, currently_best_loss 0.34707286953926086, steps_without_imporvement 0\n",
            "Epoch 127 train loss: 0.3651, eval loss 0.34686338901519775, currently_best_loss 0.34686338901519775, steps_without_imporvement 0\n",
            "Epoch 128 train loss: 0.3911, eval loss 0.34666043519973755, currently_best_loss 0.34666043519973755, steps_without_imporvement 0\n",
            "Epoch 129 train loss: 0.3659, eval loss 0.3464507758617401, currently_best_loss 0.3464507758617401, steps_without_imporvement 0\n",
            "Epoch 130 train loss: 0.4044, eval loss 0.34623876214027405, currently_best_loss 0.34623876214027405, steps_without_imporvement 0\n",
            "Epoch 131 train loss: 0.4011, eval loss 0.3460313379764557, currently_best_loss 0.3460313379764557, steps_without_imporvement 0\n",
            "Epoch 132 train loss: 0.4008, eval loss 0.34582898020744324, currently_best_loss 0.34582898020744324, steps_without_imporvement 0\n",
            "Epoch 133 train loss: 0.3954, eval loss 0.34562790393829346, currently_best_loss 0.34562790393829346, steps_without_imporvement 0\n",
            "Epoch 134 train loss: 0.3871, eval loss 0.3454420268535614, currently_best_loss 0.3454420268535614, steps_without_imporvement 0\n",
            "Epoch 135 train loss: 0.3632, eval loss 0.3452572822570801, currently_best_loss 0.3452572822570801, steps_without_imporvement 0\n",
            "Epoch 136 train loss: 0.3898, eval loss 0.3450719118118286, currently_best_loss 0.3450719118118286, steps_without_imporvement 0\n",
            "Epoch 137 train loss: 0.4001, eval loss 0.3448795974254608, currently_best_loss 0.3448795974254608, steps_without_imporvement 0\n",
            "Epoch 138 train loss: 0.3937, eval loss 0.3447016477584839, currently_best_loss 0.3447016477584839, steps_without_imporvement 0\n",
            "Epoch 139 train loss: 0.3864, eval loss 0.34453079104423523, currently_best_loss 0.34453079104423523, steps_without_imporvement 0\n",
            "Epoch 140 train loss: 0.4042, eval loss 0.3443579077720642, currently_best_loss 0.3443579077720642, steps_without_imporvement 0\n",
            "Epoch 141 train loss: 0.3594, eval loss 0.3441579043865204, currently_best_loss 0.3441579043865204, steps_without_imporvement 0\n",
            "Epoch 142 train loss: 0.3740, eval loss 0.34399157762527466, currently_best_loss 0.34399157762527466, steps_without_imporvement 0\n",
            "Epoch 143 train loss: 0.3707, eval loss 0.3438102900981903, currently_best_loss 0.3438102900981903, steps_without_imporvement 0\n",
            "Epoch 144 train loss: 0.4205, eval loss 0.34363049268722534, currently_best_loss 0.34363049268722534, steps_without_imporvement 0\n",
            "Epoch 145 train loss: 0.3891, eval loss 0.3434658646583557, currently_best_loss 0.3434658646583557, steps_without_imporvement 0\n",
            "Epoch 146 train loss: 0.3694, eval loss 0.3433055281639099, currently_best_loss 0.3433055281639099, steps_without_imporvement 0\n",
            "Epoch 147 train loss: 0.3497, eval loss 0.343127965927124, currently_best_loss 0.343127965927124, steps_without_imporvement 0\n",
            "Epoch 148 train loss: 0.3997, eval loss 0.342957079410553, currently_best_loss 0.342957079410553, steps_without_imporvement 0\n",
            "Epoch 149 train loss: 0.3435, eval loss 0.34278061985969543, currently_best_loss 0.34278061985969543, steps_without_imporvement 0\n",
            "Epoch 150 train loss: 0.3636, eval loss 0.342612624168396, currently_best_loss 0.342612624168396, steps_without_imporvement 0\n",
            "Epoch 151 train loss: 0.3983, eval loss 0.34244704246520996, currently_best_loss 0.34244704246520996, steps_without_imporvement 0\n",
            "Epoch 152 train loss: 0.4103, eval loss 0.3422938585281372, currently_best_loss 0.3422938585281372, steps_without_imporvement 0\n",
            "Epoch 153 train loss: 0.3667, eval loss 0.34213075041770935, currently_best_loss 0.34213075041770935, steps_without_imporvement 0\n",
            "Epoch 154 train loss: 0.3900, eval loss 0.34196439385414124, currently_best_loss 0.34196439385414124, steps_without_imporvement 0\n",
            "Epoch 155 train loss: 0.3710, eval loss 0.34180164337158203, currently_best_loss 0.34180164337158203, steps_without_imporvement 0\n",
            "Epoch 156 train loss: 0.4287, eval loss 0.34163880348205566, currently_best_loss 0.34163880348205566, steps_without_imporvement 0\n",
            "Epoch 157 train loss: 0.3688, eval loss 0.3414797782897949, currently_best_loss 0.3414797782897949, steps_without_imporvement 0\n",
            "Epoch 158 train loss: 0.3784, eval loss 0.34134262800216675, currently_best_loss 0.34134262800216675, steps_without_imporvement 0\n",
            "Epoch 159 train loss: 0.3767, eval loss 0.3411860167980194, currently_best_loss 0.3411860167980194, steps_without_imporvement 0\n",
            "Epoch 160 train loss: 0.3785, eval loss 0.34102103114128113, currently_best_loss 0.34102103114128113, steps_without_imporvement 0\n",
            "Epoch 161 train loss: 0.3942, eval loss 0.34087032079696655, currently_best_loss 0.34087032079696655, steps_without_imporvement 0\n",
            "Epoch 162 train loss: 0.3610, eval loss 0.34069710969924927, currently_best_loss 0.34069710969924927, steps_without_imporvement 0\n",
            "Epoch 163 train loss: 0.3882, eval loss 0.3405507206916809, currently_best_loss 0.3405507206916809, steps_without_imporvement 0\n",
            "Epoch 164 train loss: 0.3757, eval loss 0.3404087722301483, currently_best_loss 0.3404087722301483, steps_without_imporvement 0\n",
            "Epoch 165 train loss: 0.3704, eval loss 0.3402724862098694, currently_best_loss 0.3402724862098694, steps_without_imporvement 0\n",
            "Epoch 166 train loss: 0.4279, eval loss 0.34010934829711914, currently_best_loss 0.34010934829711914, steps_without_imporvement 0\n",
            "Epoch 167 train loss: 0.3638, eval loss 0.33998432755470276, currently_best_loss 0.33998432755470276, steps_without_imporvement 0\n",
            "Epoch 168 train loss: 0.3911, eval loss 0.33983850479125977, currently_best_loss 0.33983850479125977, steps_without_imporvement 0\n",
            "Epoch 169 train loss: 0.3652, eval loss 0.33969077467918396, currently_best_loss 0.33969077467918396, steps_without_imporvement 0\n",
            "Epoch 170 train loss: 0.3775, eval loss 0.339555025100708, currently_best_loss 0.339555025100708, steps_without_imporvement 0\n",
            "Epoch 171 train loss: 0.3767, eval loss 0.33941835165023804, currently_best_loss 0.33941835165023804, steps_without_imporvement 0\n",
            "Epoch 172 train loss: 0.3909, eval loss 0.33927837014198303, currently_best_loss 0.33927837014198303, steps_without_imporvement 0\n",
            "Epoch 173 train loss: 0.3786, eval loss 0.3391345143318176, currently_best_loss 0.3391345143318176, steps_without_imporvement 0\n",
            "Epoch 174 train loss: 0.3725, eval loss 0.3390074074268341, currently_best_loss 0.3390074074268341, steps_without_imporvement 0\n",
            "Epoch 175 train loss: 0.3641, eval loss 0.3388659656047821, currently_best_loss 0.3388659656047821, steps_without_imporvement 0\n",
            "Epoch 176 train loss: 0.3602, eval loss 0.33872246742248535, currently_best_loss 0.33872246742248535, steps_without_imporvement 0\n",
            "Epoch 177 train loss: 0.3830, eval loss 0.3385908901691437, currently_best_loss 0.3385908901691437, steps_without_imporvement 0\n",
            "Epoch 178 train loss: 0.3910, eval loss 0.3384492099285126, currently_best_loss 0.3384492099285126, steps_without_imporvement 0\n",
            "Epoch 179 train loss: 0.3637, eval loss 0.3383295238018036, currently_best_loss 0.3383295238018036, steps_without_imporvement 0\n",
            "Epoch 180 train loss: 0.3810, eval loss 0.3382013440132141, currently_best_loss 0.3382013440132141, steps_without_imporvement 0\n",
            "Epoch 181 train loss: 0.3803, eval loss 0.3380673825740814, currently_best_loss 0.3380673825740814, steps_without_imporvement 0\n",
            "Epoch 182 train loss: 0.3737, eval loss 0.33793914318084717, currently_best_loss 0.33793914318084717, steps_without_imporvement 0\n",
            "Epoch 183 train loss: 0.3905, eval loss 0.3378114104270935, currently_best_loss 0.3378114104270935, steps_without_imporvement 0\n",
            "Epoch 184 train loss: 0.3954, eval loss 0.3376675844192505, currently_best_loss 0.3376675844192505, steps_without_imporvement 0\n",
            "Epoch 185 train loss: 0.3676, eval loss 0.3375341594219208, currently_best_loss 0.3375341594219208, steps_without_imporvement 0\n",
            "Epoch 186 train loss: 0.3620, eval loss 0.3374278247356415, currently_best_loss 0.3374278247356415, steps_without_imporvement 0\n",
            "Epoch 187 train loss: 0.3693, eval loss 0.3373018801212311, currently_best_loss 0.3373018801212311, steps_without_imporvement 0\n",
            "Epoch 188 train loss: 0.3618, eval loss 0.33718380331993103, currently_best_loss 0.33718380331993103, steps_without_imporvement 0\n",
            "Epoch 189 train loss: 0.3885, eval loss 0.3370566666126251, currently_best_loss 0.3370566666126251, steps_without_imporvement 0\n",
            "Epoch 190 train loss: 0.3757, eval loss 0.336920827627182, currently_best_loss 0.336920827627182, steps_without_imporvement 0\n",
            "Epoch 191 train loss: 0.3768, eval loss 0.336810827255249, currently_best_loss 0.336810827255249, steps_without_imporvement 0\n",
            "Epoch 192 train loss: 0.4130, eval loss 0.3367008566856384, currently_best_loss 0.3367008566856384, steps_without_imporvement 0\n",
            "Epoch 193 train loss: 0.4000, eval loss 0.3365844786167145, currently_best_loss 0.3365844786167145, steps_without_imporvement 0\n",
            "Epoch 194 train loss: 0.3644, eval loss 0.33646759390830994, currently_best_loss 0.33646759390830994, steps_without_imporvement 0\n",
            "Epoch 195 train loss: 0.3579, eval loss 0.3363531827926636, currently_best_loss 0.3363531827926636, steps_without_imporvement 0\n",
            "Epoch 196 train loss: 0.3795, eval loss 0.33624327182769775, currently_best_loss 0.33624327182769775, steps_without_imporvement 0\n",
            "Epoch 197 train loss: 0.3664, eval loss 0.33612722158432007, currently_best_loss 0.33612722158432007, steps_without_imporvement 0\n",
            "Epoch 198 train loss: 0.3642, eval loss 0.3360074758529663, currently_best_loss 0.3360074758529663, steps_without_imporvement 0\n",
            "Epoch 199 train loss: 0.4106, eval loss 0.33589982986450195, currently_best_loss 0.33589982986450195, steps_without_imporvement 0\n",
            "Epoch 200 train loss: 0.3750, eval loss 0.3357859253883362, currently_best_loss 0.3357859253883362, steps_without_imporvement 0\n",
            "Epoch 201 train loss: 0.3850, eval loss 0.33566147089004517, currently_best_loss 0.33566147089004517, steps_without_imporvement 0\n",
            "Epoch 202 train loss: 0.3438, eval loss 0.3355490267276764, currently_best_loss 0.3355490267276764, steps_without_imporvement 0\n",
            "Epoch 203 train loss: 0.3630, eval loss 0.33544132113456726, currently_best_loss 0.33544132113456726, steps_without_imporvement 0\n",
            "Epoch 204 train loss: 0.3515, eval loss 0.3353361189365387, currently_best_loss 0.3353361189365387, steps_without_imporvement 0\n",
            "Epoch 205 train loss: 0.3846, eval loss 0.3352261185646057, currently_best_loss 0.3352261185646057, steps_without_imporvement 0\n",
            "Epoch 206 train loss: 0.3484, eval loss 0.33512458205223083, currently_best_loss 0.33512458205223083, steps_without_imporvement 0\n",
            "Epoch 207 train loss: 0.3556, eval loss 0.33501261472702026, currently_best_loss 0.33501261472702026, steps_without_imporvement 0\n",
            "Epoch 208 train loss: 0.3908, eval loss 0.3349098265171051, currently_best_loss 0.3349098265171051, steps_without_imporvement 0\n",
            "Epoch 209 train loss: 0.4123, eval loss 0.33480092883110046, currently_best_loss 0.33480092883110046, steps_without_imporvement 0\n",
            "Epoch 210 train loss: 0.3497, eval loss 0.3346995413303375, currently_best_loss 0.3346995413303375, steps_without_imporvement 0\n",
            "Epoch 211 train loss: 0.3706, eval loss 0.3345904052257538, currently_best_loss 0.3345904052257538, steps_without_imporvement 0\n",
            "Epoch 212 train loss: 0.3965, eval loss 0.3344959020614624, currently_best_loss 0.3344959020614624, steps_without_imporvement 0\n",
            "Epoch 213 train loss: 0.3636, eval loss 0.3343900442123413, currently_best_loss 0.3343900442123413, steps_without_imporvement 0\n",
            "Epoch 214 train loss: 0.3771, eval loss 0.33428338170051575, currently_best_loss 0.33428338170051575, steps_without_imporvement 0\n",
            "Epoch 215 train loss: 0.3812, eval loss 0.33418238162994385, currently_best_loss 0.33418238162994385, steps_without_imporvement 0\n",
            "Epoch 216 train loss: 0.3865, eval loss 0.3340798616409302, currently_best_loss 0.3340798616409302, steps_without_imporvement 0\n",
            "Epoch 217 train loss: 0.4015, eval loss 0.3339664041996002, currently_best_loss 0.3339664041996002, steps_without_imporvement 0\n",
            "Epoch 218 train loss: 0.4439, eval loss 0.3338758945465088, currently_best_loss 0.3338758945465088, steps_without_imporvement 0\n",
            "Epoch 219 train loss: 0.3954, eval loss 0.33375829458236694, currently_best_loss 0.33375829458236694, steps_without_imporvement 0\n",
            "Epoch 220 train loss: 0.3864, eval loss 0.3336562514305115, currently_best_loss 0.3336562514305115, steps_without_imporvement 0\n",
            "Epoch 221 train loss: 0.3942, eval loss 0.3335682451725006, currently_best_loss 0.3335682451725006, steps_without_imporvement 0\n",
            "Epoch 222 train loss: 0.3953, eval loss 0.3334709405899048, currently_best_loss 0.3334709405899048, steps_without_imporvement 0\n",
            "Epoch 223 train loss: 0.3727, eval loss 0.33336299657821655, currently_best_loss 0.33336299657821655, steps_without_imporvement 0\n",
            "Epoch 224 train loss: 0.3883, eval loss 0.33327609300613403, currently_best_loss 0.33327609300613403, steps_without_imporvement 0\n",
            "Epoch 225 train loss: 0.3802, eval loss 0.33319056034088135, currently_best_loss 0.33319056034088135, steps_without_imporvement 0\n",
            "Epoch 226 train loss: 0.3973, eval loss 0.3331054151058197, currently_best_loss 0.3331054151058197, steps_without_imporvement 0\n",
            "Epoch 227 train loss: 0.3817, eval loss 0.33299651741981506, currently_best_loss 0.33299651741981506, steps_without_imporvement 0\n",
            "Epoch 228 train loss: 0.3885, eval loss 0.33291465044021606, currently_best_loss 0.33291465044021606, steps_without_imporvement 0\n",
            "Epoch 229 train loss: 0.4174, eval loss 0.33280476927757263, currently_best_loss 0.33280476927757263, steps_without_imporvement 0\n",
            "Epoch 230 train loss: 0.3915, eval loss 0.33270972967147827, currently_best_loss 0.33270972967147827, steps_without_imporvement 0\n",
            "Epoch 231 train loss: 0.3908, eval loss 0.33260977268218994, currently_best_loss 0.33260977268218994, steps_without_imporvement 0\n",
            "Epoch 232 train loss: 0.3918, eval loss 0.3325226604938507, currently_best_loss 0.3325226604938507, steps_without_imporvement 0\n",
            "Epoch 233 train loss: 0.3751, eval loss 0.33242711424827576, currently_best_loss 0.33242711424827576, steps_without_imporvement 0\n",
            "Epoch 234 train loss: 0.3987, eval loss 0.33233028650283813, currently_best_loss 0.33233028650283813, steps_without_imporvement 0\n",
            "Epoch 235 train loss: 0.3859, eval loss 0.3322422504425049, currently_best_loss 0.3322422504425049, steps_without_imporvement 0\n",
            "Epoch 236 train loss: 0.3808, eval loss 0.3321598172187805, currently_best_loss 0.3321598172187805, steps_without_imporvement 0\n",
            "Epoch 237 train loss: 0.3615, eval loss 0.332057386636734, currently_best_loss 0.332057386636734, steps_without_imporvement 0\n",
            "Epoch 238 train loss: 0.3911, eval loss 0.33196544647216797, currently_best_loss 0.33196544647216797, steps_without_imporvement 0\n",
            "Epoch 239 train loss: 0.3493, eval loss 0.331869900226593, currently_best_loss 0.331869900226593, steps_without_imporvement 0\n",
            "Epoch 240 train loss: 0.3405, eval loss 0.3317856192588806, currently_best_loss 0.3317856192588806, steps_without_imporvement 0\n",
            "Epoch 241 train loss: 0.3775, eval loss 0.3316992223262787, currently_best_loss 0.3316992223262787, steps_without_imporvement 0\n",
            "Epoch 242 train loss: 0.3839, eval loss 0.3315966725349426, currently_best_loss 0.3315966725349426, steps_without_imporvement 0\n",
            "Epoch 243 train loss: 0.3695, eval loss 0.33151981234550476, currently_best_loss 0.33151981234550476, steps_without_imporvement 0\n",
            "Epoch 244 train loss: 0.3530, eval loss 0.33143311738967896, currently_best_loss 0.33143311738967896, steps_without_imporvement 0\n",
            "Epoch 245 train loss: 0.4135, eval loss 0.3313482999801636, currently_best_loss 0.3313482999801636, steps_without_imporvement 0\n",
            "Epoch 246 train loss: 0.3633, eval loss 0.33127763867378235, currently_best_loss 0.33127763867378235, steps_without_imporvement 0\n",
            "Epoch 247 train loss: 0.3819, eval loss 0.3311902582645416, currently_best_loss 0.3311902582645416, steps_without_imporvement 0\n",
            "Epoch 248 train loss: 0.3643, eval loss 0.33110517263412476, currently_best_loss 0.33110517263412476, steps_without_imporvement 0\n",
            "Epoch 249 train loss: 0.3890, eval loss 0.3310156464576721, currently_best_loss 0.3310156464576721, steps_without_imporvement 0\n",
            "Epoch 250 train loss: 0.3713, eval loss 0.3309275209903717, currently_best_loss 0.3309275209903717, steps_without_imporvement 0\n",
            "Epoch 251 train loss: 0.4272, eval loss 0.33084145188331604, currently_best_loss 0.33084145188331604, steps_without_imporvement 0\n",
            "Epoch 252 train loss: 0.3610, eval loss 0.3307594954967499, currently_best_loss 0.3307594954967499, steps_without_imporvement 0\n",
            "Epoch 253 train loss: 0.3532, eval loss 0.33067089319229126, currently_best_loss 0.33067089319229126, steps_without_imporvement 0\n",
            "Epoch 254 train loss: 0.3777, eval loss 0.3305828273296356, currently_best_loss 0.3305828273296356, steps_without_imporvement 0\n",
            "Epoch 255 train loss: 0.4121, eval loss 0.33051517605781555, currently_best_loss 0.33051517605781555, steps_without_imporvement 0\n",
            "Epoch 256 train loss: 0.3463, eval loss 0.330424427986145, currently_best_loss 0.330424427986145, steps_without_imporvement 0\n",
            "Epoch 257 train loss: 0.3801, eval loss 0.3303475081920624, currently_best_loss 0.3303475081920624, steps_without_imporvement 0\n",
            "Epoch 258 train loss: 0.3562, eval loss 0.33027029037475586, currently_best_loss 0.33027029037475586, steps_without_imporvement 0\n",
            "Epoch 259 train loss: 0.3801, eval loss 0.33019721508026123, currently_best_loss 0.33019721508026123, steps_without_imporvement 0\n",
            "Epoch 260 train loss: 0.3646, eval loss 0.33011355996131897, currently_best_loss 0.33011355996131897, steps_without_imporvement 0\n",
            "Epoch 261 train loss: 0.3816, eval loss 0.330047607421875, currently_best_loss 0.330047607421875, steps_without_imporvement 0\n",
            "Epoch 262 train loss: 0.3859, eval loss 0.32996800541877747, currently_best_loss 0.32996800541877747, steps_without_imporvement 0\n",
            "Epoch 263 train loss: 0.3696, eval loss 0.3299050033092499, currently_best_loss 0.3299050033092499, steps_without_imporvement 0\n",
            "Epoch 264 train loss: 0.3811, eval loss 0.3298182487487793, currently_best_loss 0.3298182487487793, steps_without_imporvement 0\n",
            "Epoch 265 train loss: 0.3778, eval loss 0.3297494947910309, currently_best_loss 0.3297494947910309, steps_without_imporvement 0\n",
            "Epoch 266 train loss: 0.3508, eval loss 0.3296929895877838, currently_best_loss 0.3296929895877838, steps_without_imporvement 0\n",
            "Epoch 267 train loss: 0.3598, eval loss 0.32961753010749817, currently_best_loss 0.32961753010749817, steps_without_imporvement 0\n",
            "Epoch 268 train loss: 0.3939, eval loss 0.32956403493881226, currently_best_loss 0.32956403493881226, steps_without_imporvement 0\n",
            "Epoch 269 train loss: 0.3577, eval loss 0.32949572801589966, currently_best_loss 0.32949572801589966, steps_without_imporvement 0\n",
            "Epoch 270 train loss: 0.3704, eval loss 0.3294121325016022, currently_best_loss 0.3294121325016022, steps_without_imporvement 0\n",
            "Epoch 271 train loss: 0.4117, eval loss 0.3293495774269104, currently_best_loss 0.3293495774269104, steps_without_imporvement 0\n",
            "Epoch 272 train loss: 0.3642, eval loss 0.3292735517024994, currently_best_loss 0.3292735517024994, steps_without_imporvement 0\n",
            "Epoch 273 train loss: 0.4291, eval loss 0.32920700311660767, currently_best_loss 0.32920700311660767, steps_without_imporvement 0\n",
            "Epoch 274 train loss: 0.3799, eval loss 0.32913124561309814, currently_best_loss 0.32913124561309814, steps_without_imporvement 0\n",
            "Epoch 275 train loss: 0.4065, eval loss 0.329066663980484, currently_best_loss 0.329066663980484, steps_without_imporvement 0\n",
            "Epoch 276 train loss: 0.3743, eval loss 0.32900455594062805, currently_best_loss 0.32900455594062805, steps_without_imporvement 0\n",
            "Epoch 277 train loss: 0.3714, eval loss 0.3289388120174408, currently_best_loss 0.3289388120174408, steps_without_imporvement 0\n",
            "Epoch 278 train loss: 0.3611, eval loss 0.32886430621147156, currently_best_loss 0.32886430621147156, steps_without_imporvement 0\n",
            "Epoch 279 train loss: 0.3853, eval loss 0.32880741357803345, currently_best_loss 0.32880741357803345, steps_without_imporvement 0\n",
            "Epoch 280 train loss: 0.3742, eval loss 0.3287367522716522, currently_best_loss 0.3287367522716522, steps_without_imporvement 0\n",
            "Epoch 281 train loss: 0.3376, eval loss 0.3286614418029785, currently_best_loss 0.3286614418029785, steps_without_imporvement 0\n",
            "Epoch 282 train loss: 0.3812, eval loss 0.3285961151123047, currently_best_loss 0.3285961151123047, steps_without_imporvement 0\n",
            "Epoch 283 train loss: 0.3810, eval loss 0.32853490114212036, currently_best_loss 0.32853490114212036, steps_without_imporvement 0\n",
            "Epoch 284 train loss: 0.3294, eval loss 0.32845497131347656, currently_best_loss 0.32845497131347656, steps_without_imporvement 0\n",
            "Epoch 285 train loss: 0.3704, eval loss 0.32838597893714905, currently_best_loss 0.32838597893714905, steps_without_imporvement 0\n",
            "Epoch 286 train loss: 0.4006, eval loss 0.32831713557243347, currently_best_loss 0.32831713557243347, steps_without_imporvement 0\n",
            "Epoch 287 train loss: 0.3648, eval loss 0.32825350761413574, currently_best_loss 0.32825350761413574, steps_without_imporvement 0\n",
            "Epoch 288 train loss: 0.3628, eval loss 0.32820504903793335, currently_best_loss 0.32820504903793335, steps_without_imporvement 0\n",
            "Epoch 289 train loss: 0.4220, eval loss 0.32814812660217285, currently_best_loss 0.32814812660217285, steps_without_imporvement 0\n",
            "Epoch 290 train loss: 0.3830, eval loss 0.3280690610408783, currently_best_loss 0.3280690610408783, steps_without_imporvement 0\n",
            "Epoch 291 train loss: 0.3940, eval loss 0.32799893617630005, currently_best_loss 0.32799893617630005, steps_without_imporvement 0\n",
            "Epoch 292 train loss: 0.3859, eval loss 0.3279399573802948, currently_best_loss 0.3279399573802948, steps_without_imporvement 0\n",
            "Epoch 293 train loss: 0.3716, eval loss 0.327886700630188, currently_best_loss 0.327886700630188, steps_without_imporvement 0\n",
            "Epoch 294 train loss: 0.3764, eval loss 0.3278159201145172, currently_best_loss 0.3278159201145172, steps_without_imporvement 0\n",
            "Epoch 295 train loss: 0.3426, eval loss 0.32776376605033875, currently_best_loss 0.32776376605033875, steps_without_imporvement 0\n",
            "Epoch 296 train loss: 0.3992, eval loss 0.32769471406936646, currently_best_loss 0.32769471406936646, steps_without_imporvement 0\n",
            "Epoch 297 train loss: 0.3748, eval loss 0.32762670516967773, currently_best_loss 0.32762670516967773, steps_without_imporvement 0\n",
            "Epoch 298 train loss: 0.3581, eval loss 0.32755905389785767, currently_best_loss 0.32755905389785767, steps_without_imporvement 0\n",
            "Epoch 299 train loss: 0.3720, eval loss 0.32749849557876587, currently_best_loss 0.32749849557876587, steps_without_imporvement 0\n"
          ]
        }
      ],
      "source": [
        "model = RegularizedMLP(\n",
        "    input_size=X_train.shape[1], \n",
        "    dropout_p=dropout_p\n",
        ")\n",
        "optimizer = torch.optim.SGD(\n",
        "    model.parameters(), \n",
        "    lr=learning_rate, \n",
        "    weight_decay=l2_reg\n",
        ")\n",
        "loss_fn = torch.nn.BCEWithLogitsLoss()\n",
        "\n",
        "train_dataset = MyDataset(X_train, y_train)\n",
        "train_dataloader = DataLoader(train_dataset, batch_size=batch_size)\n",
        "\n",
        "steps_without_improvement = 0\n",
        "\n",
        "best_val_loss = np.inf\n",
        "best_model = None\n",
        "best_threshold = None\n",
        "\n",
        "for epoch_num in range(max_epochs):\n",
        "    model.train()\n",
        "    \n",
        "    # note that we are using DataLoader to get batches\n",
        "    for X_batch, y_batch in train_dataloader:\n",
        "        y_hat = model(X_batch)\n",
        "        loss = loss_fn(y_hat, y_batch)\n",
        "        loss.backward()\n",
        "        optimizer.step()\n",
        "        optimizer.zero_grad()\n",
        "    \n",
        "    # model evaluation, early stopping \n",
        "    model.eval()\n",
        "    valid_metrics = evaluate_model(model, X_valid, y_valid, loss_fn)\n",
        "    \n",
        "    new_loss = valid_metrics[\"loss\"].item()\n",
        "    \n",
        "    if new_loss < best_val_loss: #if there is an improvement\n",
        "        #we should update the best_ stuff and reset steps_without_improvement\n",
        "        best_val_loss = new_loss\n",
        "        best_model = model\n",
        "        best_threshold = valid_metrics[\"optimal_threshold\"]\n",
        "        steps_without_improvement = 0\n",
        "        \n",
        "    else: #if there is no improvement\n",
        "        steps_without_improvement += 1\n",
        "        if steps_without_improvement > early_stopping_patience: \n",
        "            #if there was no improvement for more steps than listed in patience, we stop the training\n",
        "            break\n",
        "            \n",
        "    print(f\"Epoch {epoch_num} train loss: {loss.item():.4f}, eval loss {valid_metrics['loss']}, currently_best_loss {best_val_loss}, steps_without_imporvement {steps_without_improvement}\")\n"
      ]
    },
    {
      "cell_type": "code",
      "execution_count": 37,
      "metadata": {
        "id": "KZeLc0Rx37CS",
        "colab": {
          "base_uri": "https://localhost:8080/"
        },
        "outputId": "bbdb6ec5-bbff-47b1-dd7a-30c146f4c41b"
      },
      "outputs": [
        {
          "output_type": "stream",
          "name": "stdout",
          "text": [
            "AUROC: 90.13%\n",
            "F1: 87.80%\n",
            "Precision: 100.00%\n",
            "Recall: 78.25%\n"
          ]
        }
      ],
      "source": [
        "test_metrics = evaluate_model(best_model, X_test, y_test, loss_fn, best_threshold)\n",
        "\n",
        "print(f\"AUROC: {100 * test_metrics['AUROC']:.2f}%\")\n",
        "print(f\"F1: {100 * test_metrics['F1-score']:.2f}%\")\n",
        "print(f\"Precision: {100 * test_metrics['precision']:.2f}%\")\n",
        "print(f\"Recall: {100 * test_metrics['recall']:.2f}%\")"
      ]
    },
    {
      "cell_type": "markdown",
      "metadata": {
        "id": "iLqqoN2e37CS"
      },
      "source": [
        "Wyniki wyglądają już dużo lepiej.\n",
        "\n",
        "Na koniec laboratorium dołożymy do naszego modelu jeszcze 3 powrzechnie używane techniki, które są bardzo proste, a pozwalają często ulepszyć wynik modelu.\n",
        "\n",
        "Pierwszą z nich są **warstwy normalizacji (normalization layers)**. Powstały one początkowo z założeniem, że przez przekształcenia przestrzeni dokonywane przez sieć zmienia się rozkład prawdopodobieństw pomiędzy warstwami, czyli tzw. *internal covariate shift*. Później okazało się, że zastosowanie takiej normalizacji wygładza powierzchnię funkcji kosztu, co ułatwia i przyspiesza optymalizację. Najpowszechniej używaną normalizacją jest **batch normalization (batch norm)**.\n",
        "\n",
        "Drugim ulepszeniem jest dodanie **wag klas (class weights)**. Mamy do czynienia z problemem klasyfikacji niezbalansowanej, więc klasa mniejszościowa, ważniejsza dla nas, powinna dostać większą wagę. Implementuje się to trywialnie prosto - po prostu mnożymy wartość funkcji kosztu dla danego przykładu przez wagę dla prawdziwej klasy tego przykładu. Praktycznie każdy klasyfikator operujący na jakiejś ważonej funkcji może działać w ten sposób, nie tylko sieci neuronowe.\n",
        "\n",
        "Ostatnim ulepszeniem jest zamiana SGD na optymalizator Adam, a konkretnie na optymalizator `AdamW`. Jest to przykład **optymalizatora adaptacyjnego (adaptive optimizer)**, który potrafi zaadaptować stałą uczącą dla każdego parametru z osobna w trakcie treningu. Wykorzystuje do tego gradienty - w uproszczeniu, im większa wariancja gradientu, tym mniejsze kroki w tym kierunku robimy."
      ]
    },
    {
      "cell_type": "markdown",
      "metadata": {
        "id": "3ZmLSkQk37CS"
      },
      "source": [
        "#### Zadanie 8 (1 punkt)\n",
        "\n",
        "Zaimplementuj model `NormalizingMLP`, o takiej samej strukturze jak `RegularizedMLP`, ale dodatkowo z warstwami `BatchNorm1d` pomiędzy warstwami `Linear` oraz `ReLU`.\n",
        "\n",
        "Za pomocą funkcji `compute_class_weight()` oblicz wagi dla poszczególnych klas. Użyj opcji `\"balanced\"`. Przekaż do funkcji kosztu wagę klasy pozytywnej (pamiętaj, aby zamienić ją na tensor).\n",
        "\n",
        "Zamień używany optymalizator na `AdamW`.\n",
        "\n",
        "Na koniec skopiuj resztę kodu do treningu z poprzedniego zadania, wytrenuj sieć i oblicz wyniki na zbiorze testowym."
      ]
    },
    {
      "cell_type": "code",
      "execution_count": 38,
      "metadata": {
        "id": "Y1mFPx3X37CS"
      },
      "outputs": [],
      "source": [
        "class NormalizingMLP(nn.Module):\n",
        "    def __init__(self, input_size: int, dropout_p: float = 0.5):\n",
        "        super().__init__()\n",
        "        \n",
        "        self.mlp = nn.Sequential(\n",
        "          nn.Linear(input_size, 256),\n",
        "          nn.BatchNorm1d(256),\n",
        "          nn.ReLU(),\n",
        "          nn.Dropout(p = dropout_p),\n",
        "          nn.Linear(256,128),\n",
        "          nn.BatchNorm1d(128),\n",
        "          nn.ReLU(),\n",
        "          nn.Dropout(p = dropout_p),\n",
        "          nn.Linear(128,1)\n",
        "        )\n",
        "    \n",
        "    def forward(self, x):\n",
        "        return self.mlp(x)\n",
        "\n",
        "    def predict_proba(self, x):\n",
        "        return sigmoid(self(x))\n",
        "    \n",
        "    def predict(self, x):\n",
        "        y_pred_score = self.predict_proba(x)\n",
        "        return torch.argmax(y_pred_score, dim=1)\n"
      ]
    },
    {
      "cell_type": "code",
      "execution_count": 39,
      "metadata": {
        "id": "VqMnNxqI37CT",
        "colab": {
          "base_uri": "https://localhost:8080/"
        },
        "outputId": "adce8038-6ad0-416e-edfe-316cef500d26"
      },
      "outputs": [
        {
          "output_type": "stream",
          "name": "stdout",
          "text": [
            "[0. 1.]\n",
            "[0. 0. 0. ... 1. 1. 0.]\n"
          ]
        }
      ],
      "source": [
        "from sklearn.utils.class_weight import compute_class_weight\n",
        "print(np.unique(y_train.numpy()))\n",
        "print(y_train.numpy().flatten())\n",
        "\n",
        "weights = compute_class_weight(\n",
        "    'balanced',\n",
        "    classes = np.unique(y_train.numpy()),\n",
        "    y = y_train.numpy().flatten()\n",
        ")\n",
        "\n",
        "learning_rate = 1e-3\n",
        "dropout_p = 0.5\n",
        "l2_reg = 1e-4\n",
        "batch_size = 128\n",
        "max_epochs = 300\n",
        "\n",
        "early_stopping_patience = 4"
      ]
    },
    {
      "cell_type": "code",
      "execution_count": 40,
      "metadata": {
        "scrolled": true,
        "id": "DI_-ufh537CT",
        "colab": {
          "base_uri": "https://localhost:8080/"
        },
        "outputId": "80c29030-508c-481b-c313-a0d60727f42d"
      },
      "outputs": [
        {
          "output_type": "stream",
          "name": "stdout",
          "text": [
            "Epoch 0 train loss: 0.5903, eval loss 0.4794272780418396, currently_best_loss 0.4794272780418396, steps_without_imporvement 0\n",
            "Epoch 1 train loss: 0.5520, eval loss 0.47454026341438293, currently_best_loss 0.47454026341438293, steps_without_imporvement 0\n",
            "Epoch 2 train loss: 0.5571, eval loss 0.47333046793937683, currently_best_loss 0.47333046793937683, steps_without_imporvement 0\n",
            "Epoch 3 train loss: 0.5123, eval loss 0.47355708479881287, currently_best_loss 0.47333046793937683, steps_without_imporvement 1\n",
            "Epoch 4 train loss: 0.5242, eval loss 0.4739922285079956, currently_best_loss 0.47333046793937683, steps_without_imporvement 2\n",
            "Epoch 5 train loss: 0.5688, eval loss 0.4736706614494324, currently_best_loss 0.47333046793937683, steps_without_imporvement 3\n",
            "Epoch 6 train loss: 0.5313, eval loss 0.47246965765953064, currently_best_loss 0.47246965765953064, steps_without_imporvement 0\n",
            "Epoch 7 train loss: 0.5233, eval loss 0.4719572961330414, currently_best_loss 0.4719572961330414, steps_without_imporvement 0\n",
            "Epoch 8 train loss: 0.4922, eval loss 0.47389528155326843, currently_best_loss 0.4719572961330414, steps_without_imporvement 1\n",
            "Epoch 9 train loss: 0.5153, eval loss 0.4729718863964081, currently_best_loss 0.4719572961330414, steps_without_imporvement 2\n",
            "Epoch 10 train loss: 0.5767, eval loss 0.4739605188369751, currently_best_loss 0.4719572961330414, steps_without_imporvement 3\n",
            "Epoch 11 train loss: 0.4910, eval loss 0.47550708055496216, currently_best_loss 0.4719572961330414, steps_without_imporvement 4\n"
          ]
        }
      ],
      "source": [
        "model = NormalizingMLP(\n",
        "    input_size=X_train.shape[1], \n",
        "    dropout_p=dropout_p\n",
        ")\n",
        "\n",
        "optimizer = torch.optim.AdamW(    \n",
        "    model.parameters(), \n",
        "    lr=learning_rate, \n",
        "    weight_decay=l2_reg\n",
        ")\n",
        "\n",
        "loss_fn = torch.nn.BCEWithLogitsLoss(pos_weight=torch.from_numpy(weights)[1])\n",
        "\n",
        "train_dataset = MyDataset(X_train, y_train)\n",
        "train_dataloader = DataLoader(train_dataset, batch_size=batch_size)\n",
        "\n",
        "steps_without_improvement = 0\n",
        "\n",
        "best_val_loss = np.inf\n",
        "best_model = None\n",
        "best_threshold = None\n",
        "\n",
        "for epoch_num in range(max_epochs):\n",
        "    model.train()\n",
        "    \n",
        "    # note that we are using DataLoader to get batches\n",
        "    for X_batch, y_batch in train_dataloader:\n",
        "        y_hat = model(X_batch)\n",
        "        loss = loss_fn(y_hat, y_batch)\n",
        "        loss.backward()\n",
        "        optimizer.step()\n",
        "        optimizer.zero_grad()\n",
        "    \n",
        "    # model evaluation, early stopping \n",
        "    model.eval()\n",
        "    valid_metrics = evaluate_model(model, X_valid, y_valid, loss_fn)\n",
        "    \n",
        "    new_loss = valid_metrics[\"loss\"].item()\n",
        "    \n",
        "    if new_loss < best_val_loss: #if there is an improvement\n",
        "        #we should update the best_ stuff and reset steps_without_improvement\n",
        "        best_val_loss = new_loss\n",
        "        best_model = model\n",
        "        best_threshold = valid_metrics[\"optimal_threshold\"]\n",
        "        steps_without_improvement = 0\n",
        "        \n",
        "    else: #if there is no improvement\n",
        "        steps_without_improvement += 1\n",
        "        if steps_without_improvement > early_stopping_patience: \n",
        "            #if there was no improvement for more steps than listed in patience, we stop the training\n",
        "            break\n",
        "            \n",
        "    print(f\"Epoch {epoch_num} train loss: {loss.item():.4f}, eval loss {valid_metrics['loss']}, currently_best_loss {best_val_loss}, steps_without_imporvement {steps_without_improvement}\")\n",
        "\n"
      ]
    },
    {
      "cell_type": "code",
      "execution_count": 41,
      "metadata": {
        "scrolled": true,
        "id": "V0Z1fXMb37CT",
        "colab": {
          "base_uri": "https://localhost:8080/"
        },
        "outputId": "1fcc077d-5f14-4f18-ffca-8e948afecd36"
      },
      "outputs": [
        {
          "output_type": "stream",
          "name": "stdout",
          "text": [
            "AUROC: 90.72%\n",
            "F1: 86.54%\n",
            "Precision: 100.00%\n",
            "Recall: 76.28%\n"
          ]
        }
      ],
      "source": [
        "test_metrics = evaluate_model(best_model, X_test, y_test, loss_fn, best_threshold)\n",
        "\n",
        "print(f\"AUROC: {100 * test_metrics['AUROC']:.2f}%\")\n",
        "print(f\"F1: {100 * test_metrics['F1-score']:.2f}%\")\n",
        "print(f\"Precision: {100 * test_metrics['precision']:.2f}%\")\n",
        "print(f\"Recall: {100 * test_metrics['recall']:.2f}%\")"
      ]
    },
    {
      "cell_type": "markdown",
      "metadata": {
        "id": "F1xVDNI837CT"
      },
      "source": [
        "## Pytania kontrolne (1 punkt)\n",
        "\n",
        "1. Wymień 4 najważniejsze twoim zdaniem hiperparametry sieci neuronowej.\n",
        "2. Czy widzisz jakiś problem w użyciu regularyzacji L1 w treningu sieci neuronowych? Czy dropout może twoim zdaniem stanowić alternatywę dla tego rodzaju regularyzacji?\n",
        "3. Czy użycie innej metryki do wczesnego stopu da taki sam model końcowy? Czemu?"
      ]
    },
    {
      "cell_type": "markdown",
      "metadata": {
        "id": "XyoRnHT4GFR9"
      },
      "source": [
        "## Akceleracja sprzętowa (dla zainteresowanych)"
      ]
    },
    {
      "cell_type": "markdown",
      "metadata": {
        "id": "a5d131x637CT"
      },
      "source": [
        "Jak wcześniej wspominaliśmy, użycie akceleracji sprzętowej, czyli po prostu GPU do obliczeń, jest bardzo efektywne w przypadku sieci neuronowych. Karty graficzne bardzo efektywnie mnożą macierze, a sieci neuronowe to, jak można było się przekonać, dużo mnożenia macierzy.\n",
        "\n",
        "W PyTorchu jest to dosyć łatwe, ale trzeba robić to explicite. Służy do tego metoda `.to()`, która przenosi tensory między CPU i GPU. Poniżej przykład, jak to się robi (oczywiście trzeba mieć skonfigurowane GPU, żeby działało):"
      ]
    },
    {
      "cell_type": "code",
      "execution_count": 42,
      "metadata": {
        "id": "LZSPrSV737CT",
        "colab": {
          "base_uri": "https://localhost:8080/",
          "height": 381
        },
        "outputId": "5b2160ad-bce4-49d3-b547-b277a857ac4b"
      },
      "outputs": [
        {
          "output_type": "error",
          "ename": "RuntimeError",
          "evalue": "ignored",
          "traceback": [
            "\u001b[0;31m---------------------------------------------------------------------------\u001b[0m",
            "\u001b[0;31mRuntimeError\u001b[0m                              Traceback (most recent call last)",
            "\u001b[0;32m<ipython-input-42-d689666e8dc6>\u001b[0m in \u001b[0;36m<module>\u001b[0;34m\u001b[0m\n\u001b[1;32m      1\u001b[0m \u001b[0;32mimport\u001b[0m \u001b[0mtime\u001b[0m\u001b[0;34m\u001b[0m\u001b[0;34m\u001b[0m\u001b[0m\n\u001b[1;32m      2\u001b[0m \u001b[0;34m\u001b[0m\u001b[0m\n\u001b[0;32m----> 3\u001b[0;31m model = NormalizingMLP(\n\u001b[0m\u001b[1;32m      4\u001b[0m     \u001b[0minput_size\u001b[0m\u001b[0;34m=\u001b[0m\u001b[0mX_train\u001b[0m\u001b[0;34m.\u001b[0m\u001b[0mshape\u001b[0m\u001b[0;34m[\u001b[0m\u001b[0;36m1\u001b[0m\u001b[0;34m]\u001b[0m\u001b[0;34m,\u001b[0m\u001b[0;34m\u001b[0m\u001b[0;34m\u001b[0m\u001b[0m\n\u001b[1;32m      5\u001b[0m     \u001b[0mdropout_p\u001b[0m\u001b[0;34m=\u001b[0m\u001b[0mdropout_p\u001b[0m\u001b[0;34m\u001b[0m\u001b[0;34m\u001b[0m\u001b[0m\n",
            "\u001b[0;32m/usr/local/lib/python3.8/dist-packages/torch/nn/modules/module.py\u001b[0m in \u001b[0;36mto\u001b[0;34m(self, *args, **kwargs)\u001b[0m\n\u001b[1;32m    925\u001b[0m             \u001b[0;32mreturn\u001b[0m \u001b[0mt\u001b[0m\u001b[0;34m.\u001b[0m\u001b[0mto\u001b[0m\u001b[0;34m(\u001b[0m\u001b[0mdevice\u001b[0m\u001b[0;34m,\u001b[0m \u001b[0mdtype\u001b[0m \u001b[0;32mif\u001b[0m \u001b[0mt\u001b[0m\u001b[0;34m.\u001b[0m\u001b[0mis_floating_point\u001b[0m\u001b[0;34m(\u001b[0m\u001b[0;34m)\u001b[0m \u001b[0;32mor\u001b[0m \u001b[0mt\u001b[0m\u001b[0;34m.\u001b[0m\u001b[0mis_complex\u001b[0m\u001b[0;34m(\u001b[0m\u001b[0;34m)\u001b[0m \u001b[0;32melse\u001b[0m \u001b[0;32mNone\u001b[0m\u001b[0;34m,\u001b[0m \u001b[0mnon_blocking\u001b[0m\u001b[0;34m)\u001b[0m\u001b[0;34m\u001b[0m\u001b[0;34m\u001b[0m\u001b[0m\n\u001b[1;32m    926\u001b[0m \u001b[0;34m\u001b[0m\u001b[0m\n\u001b[0;32m--> 927\u001b[0;31m         \u001b[0;32mreturn\u001b[0m \u001b[0mself\u001b[0m\u001b[0;34m.\u001b[0m\u001b[0m_apply\u001b[0m\u001b[0;34m(\u001b[0m\u001b[0mconvert\u001b[0m\u001b[0;34m)\u001b[0m\u001b[0;34m\u001b[0m\u001b[0;34m\u001b[0m\u001b[0m\n\u001b[0m\u001b[1;32m    928\u001b[0m \u001b[0;34m\u001b[0m\u001b[0m\n\u001b[1;32m    929\u001b[0m     def register_backward_hook(\n",
            "\u001b[0;32m/usr/local/lib/python3.8/dist-packages/torch/nn/modules/module.py\u001b[0m in \u001b[0;36m_apply\u001b[0;34m(self, fn)\u001b[0m\n\u001b[1;32m    577\u001b[0m     \u001b[0;32mdef\u001b[0m \u001b[0m_apply\u001b[0m\u001b[0;34m(\u001b[0m\u001b[0mself\u001b[0m\u001b[0;34m,\u001b[0m \u001b[0mfn\u001b[0m\u001b[0;34m)\u001b[0m\u001b[0;34m:\u001b[0m\u001b[0;34m\u001b[0m\u001b[0;34m\u001b[0m\u001b[0m\n\u001b[1;32m    578\u001b[0m         \u001b[0;32mfor\u001b[0m \u001b[0mmodule\u001b[0m \u001b[0;32min\u001b[0m \u001b[0mself\u001b[0m\u001b[0;34m.\u001b[0m\u001b[0mchildren\u001b[0m\u001b[0;34m(\u001b[0m\u001b[0;34m)\u001b[0m\u001b[0;34m:\u001b[0m\u001b[0;34m\u001b[0m\u001b[0;34m\u001b[0m\u001b[0m\n\u001b[0;32m--> 579\u001b[0;31m             \u001b[0mmodule\u001b[0m\u001b[0;34m.\u001b[0m\u001b[0m_apply\u001b[0m\u001b[0;34m(\u001b[0m\u001b[0mfn\u001b[0m\u001b[0;34m)\u001b[0m\u001b[0;34m\u001b[0m\u001b[0;34m\u001b[0m\u001b[0m\n\u001b[0m\u001b[1;32m    580\u001b[0m \u001b[0;34m\u001b[0m\u001b[0m\n\u001b[1;32m    581\u001b[0m         \u001b[0;32mdef\u001b[0m \u001b[0mcompute_should_use_set_data\u001b[0m\u001b[0;34m(\u001b[0m\u001b[0mtensor\u001b[0m\u001b[0;34m,\u001b[0m \u001b[0mtensor_applied\u001b[0m\u001b[0;34m)\u001b[0m\u001b[0;34m:\u001b[0m\u001b[0;34m\u001b[0m\u001b[0;34m\u001b[0m\u001b[0m\n",
            "\u001b[0;32m/usr/local/lib/python3.8/dist-packages/torch/nn/modules/module.py\u001b[0m in \u001b[0;36m_apply\u001b[0;34m(self, fn)\u001b[0m\n\u001b[1;32m    577\u001b[0m     \u001b[0;32mdef\u001b[0m \u001b[0m_apply\u001b[0m\u001b[0;34m(\u001b[0m\u001b[0mself\u001b[0m\u001b[0;34m,\u001b[0m \u001b[0mfn\u001b[0m\u001b[0;34m)\u001b[0m\u001b[0;34m:\u001b[0m\u001b[0;34m\u001b[0m\u001b[0;34m\u001b[0m\u001b[0m\n\u001b[1;32m    578\u001b[0m         \u001b[0;32mfor\u001b[0m \u001b[0mmodule\u001b[0m \u001b[0;32min\u001b[0m \u001b[0mself\u001b[0m\u001b[0;34m.\u001b[0m\u001b[0mchildren\u001b[0m\u001b[0;34m(\u001b[0m\u001b[0;34m)\u001b[0m\u001b[0;34m:\u001b[0m\u001b[0;34m\u001b[0m\u001b[0;34m\u001b[0m\u001b[0m\n\u001b[0;32m--> 579\u001b[0;31m             \u001b[0mmodule\u001b[0m\u001b[0;34m.\u001b[0m\u001b[0m_apply\u001b[0m\u001b[0;34m(\u001b[0m\u001b[0mfn\u001b[0m\u001b[0;34m)\u001b[0m\u001b[0;34m\u001b[0m\u001b[0;34m\u001b[0m\u001b[0m\n\u001b[0m\u001b[1;32m    580\u001b[0m \u001b[0;34m\u001b[0m\u001b[0m\n\u001b[1;32m    581\u001b[0m         \u001b[0;32mdef\u001b[0m \u001b[0mcompute_should_use_set_data\u001b[0m\u001b[0;34m(\u001b[0m\u001b[0mtensor\u001b[0m\u001b[0;34m,\u001b[0m \u001b[0mtensor_applied\u001b[0m\u001b[0;34m)\u001b[0m\u001b[0;34m:\u001b[0m\u001b[0;34m\u001b[0m\u001b[0;34m\u001b[0m\u001b[0m\n",
            "\u001b[0;32m/usr/local/lib/python3.8/dist-packages/torch/nn/modules/module.py\u001b[0m in \u001b[0;36m_apply\u001b[0;34m(self, fn)\u001b[0m\n\u001b[1;32m    600\u001b[0m             \u001b[0;31m# `with torch.no_grad():`\u001b[0m\u001b[0;34m\u001b[0m\u001b[0;34m\u001b[0m\u001b[0;34m\u001b[0m\u001b[0m\n\u001b[1;32m    601\u001b[0m             \u001b[0;32mwith\u001b[0m \u001b[0mtorch\u001b[0m\u001b[0;34m.\u001b[0m\u001b[0mno_grad\u001b[0m\u001b[0;34m(\u001b[0m\u001b[0;34m)\u001b[0m\u001b[0;34m:\u001b[0m\u001b[0;34m\u001b[0m\u001b[0;34m\u001b[0m\u001b[0m\n\u001b[0;32m--> 602\u001b[0;31m                 \u001b[0mparam_applied\u001b[0m \u001b[0;34m=\u001b[0m \u001b[0mfn\u001b[0m\u001b[0;34m(\u001b[0m\u001b[0mparam\u001b[0m\u001b[0;34m)\u001b[0m\u001b[0;34m\u001b[0m\u001b[0;34m\u001b[0m\u001b[0m\n\u001b[0m\u001b[1;32m    603\u001b[0m             \u001b[0mshould_use_set_data\u001b[0m \u001b[0;34m=\u001b[0m \u001b[0mcompute_should_use_set_data\u001b[0m\u001b[0;34m(\u001b[0m\u001b[0mparam\u001b[0m\u001b[0;34m,\u001b[0m \u001b[0mparam_applied\u001b[0m\u001b[0;34m)\u001b[0m\u001b[0;34m\u001b[0m\u001b[0;34m\u001b[0m\u001b[0m\n\u001b[1;32m    604\u001b[0m             \u001b[0;32mif\u001b[0m \u001b[0mshould_use_set_data\u001b[0m\u001b[0;34m:\u001b[0m\u001b[0;34m\u001b[0m\u001b[0;34m\u001b[0m\u001b[0m\n",
            "\u001b[0;32m/usr/local/lib/python3.8/dist-packages/torch/nn/modules/module.py\u001b[0m in \u001b[0;36mconvert\u001b[0;34m(t)\u001b[0m\n\u001b[1;32m    923\u001b[0m                 return t.to(device, dtype if t.is_floating_point() or t.is_complex() else None,\n\u001b[1;32m    924\u001b[0m                             non_blocking, memory_format=convert_to_format)\n\u001b[0;32m--> 925\u001b[0;31m             \u001b[0;32mreturn\u001b[0m \u001b[0mt\u001b[0m\u001b[0;34m.\u001b[0m\u001b[0mto\u001b[0m\u001b[0;34m(\u001b[0m\u001b[0mdevice\u001b[0m\u001b[0;34m,\u001b[0m \u001b[0mdtype\u001b[0m \u001b[0;32mif\u001b[0m \u001b[0mt\u001b[0m\u001b[0;34m.\u001b[0m\u001b[0mis_floating_point\u001b[0m\u001b[0;34m(\u001b[0m\u001b[0;34m)\u001b[0m \u001b[0;32mor\u001b[0m \u001b[0mt\u001b[0m\u001b[0;34m.\u001b[0m\u001b[0mis_complex\u001b[0m\u001b[0;34m(\u001b[0m\u001b[0;34m)\u001b[0m \u001b[0;32melse\u001b[0m \u001b[0;32mNone\u001b[0m\u001b[0;34m,\u001b[0m \u001b[0mnon_blocking\u001b[0m\u001b[0;34m)\u001b[0m\u001b[0;34m\u001b[0m\u001b[0;34m\u001b[0m\u001b[0m\n\u001b[0m\u001b[1;32m    926\u001b[0m \u001b[0;34m\u001b[0m\u001b[0m\n\u001b[1;32m    927\u001b[0m         \u001b[0;32mreturn\u001b[0m \u001b[0mself\u001b[0m\u001b[0;34m.\u001b[0m\u001b[0m_apply\u001b[0m\u001b[0;34m(\u001b[0m\u001b[0mconvert\u001b[0m\u001b[0;34m)\u001b[0m\u001b[0;34m\u001b[0m\u001b[0;34m\u001b[0m\u001b[0m\n",
            "\u001b[0;32m/usr/local/lib/python3.8/dist-packages/torch/cuda/__init__.py\u001b[0m in \u001b[0;36m_lazy_init\u001b[0;34m()\u001b[0m\n\u001b[1;32m    215\u001b[0m         \u001b[0;31m# This function throws if there's a driver initialization error, no GPUs\u001b[0m\u001b[0;34m\u001b[0m\u001b[0;34m\u001b[0m\u001b[0;34m\u001b[0m\u001b[0m\n\u001b[1;32m    216\u001b[0m         \u001b[0;31m# are found or any other error occurs\u001b[0m\u001b[0;34m\u001b[0m\u001b[0;34m\u001b[0m\u001b[0;34m\u001b[0m\u001b[0m\n\u001b[0;32m--> 217\u001b[0;31m         \u001b[0mtorch\u001b[0m\u001b[0;34m.\u001b[0m\u001b[0m_C\u001b[0m\u001b[0;34m.\u001b[0m\u001b[0m_cuda_init\u001b[0m\u001b[0;34m(\u001b[0m\u001b[0;34m)\u001b[0m\u001b[0;34m\u001b[0m\u001b[0;34m\u001b[0m\u001b[0m\n\u001b[0m\u001b[1;32m    218\u001b[0m         \u001b[0;31m# Some of the queued calls may reentrantly call _lazy_init();\u001b[0m\u001b[0;34m\u001b[0m\u001b[0;34m\u001b[0m\u001b[0;34m\u001b[0m\u001b[0m\n\u001b[1;32m    219\u001b[0m         \u001b[0;31m# we need to just return without initializing in that case.\u001b[0m\u001b[0;34m\u001b[0m\u001b[0;34m\u001b[0m\u001b[0;34m\u001b[0m\u001b[0m\n",
            "\u001b[0;31mRuntimeError\u001b[0m: No CUDA GPUs are available"
          ]
        }
      ],
      "source": [
        "import time \n",
        "\n",
        "model = NormalizingMLP(\n",
        "    input_size=X_train.shape[1], \n",
        "    dropout_p=dropout_p\n",
        ").to('cuda')\n",
        "\n",
        "optimizer = torch.optim.AdamW(model.parameters(), lr=learning_rate, weight_decay=1e-4)\n",
        "\n",
        "# note that we are using loss function with sigmoid built in\n",
        "loss_fn = torch.nn.BCEWithLogitsLoss(pos_weight=torch.from_numpy(weights)[1].to('cuda'))\n",
        "\n",
        "step_counter = 0\n",
        "time_from_eval = time.time()\n",
        "for epoch_id in range(30):\n",
        "    for batch_x, batch_y in train_dataloader:\n",
        "        batch_x = batch_x.to('cuda')\n",
        "        batch_y = batch_y.to('cuda')\n",
        "        \n",
        "        loss = loss_fn(model(batch_x), batch_y)\n",
        "        loss.backward()\n",
        "\n",
        "        optimizer.step()\n",
        "        optimizer.zero_grad()\n",
        "        \n",
        "        if step_counter % evaluation_steps == 0:\n",
        "            print(f\"Epoch {epoch_id} train loss: {loss.item():.4f}, time: {time.time() - time_from_eval}\")\n",
        "            time_from_eval = time.time()\n",
        "\n",
        "        step_counter += 1\n",
        "\n",
        "test_res = evaluate_model(model.to('cpu'), X_test, y_test, loss_fn.to('cpu'), threshold=0.5)\n",
        "\n",
        "print(f\"AUROC: {100 * test_metrics['AUROC']:.2f}%\")\n",
        "print(f\"F1: {100 * test_metrics['F1-score']:.2f}%\")"
      ]
    },
    {
      "cell_type": "markdown",
      "metadata": {
        "id": "n5A2531T37CT"
      },
      "source": [
        "Wyniki mogą się różnić z modelem na CPU, zauważ o ile szybszy jest ten model w porównaniu z CPU (przynajmniej w przypadków scenariuszy tak będzie ;)).\n",
        "\n",
        "Dla zainteresowanych polecamy [tę serie artykułów](https://medium.com/@adi.fu7/ai-accelerators-part-i-intro-822c2cdb4ca4)"
      ]
    },
    {
      "cell_type": "markdown",
      "metadata": {
        "id": "CpKj0CS937CT"
      },
      "source": [
        "## Zadanie dla chętnych"
      ]
    },
    {
      "cell_type": "markdown",
      "metadata": {
        "id": "0MXPi2BW37CT"
      },
      "source": [
        "Jak widzieliśmy, sieci neuronowe mają bardzo dużo hiperparametrów. Przeszukiwanie ich grid search'em jest więc niewykonalne, a chociaż random search by działał, to potrzebowałby wielu iteracji, co też jest kosztowne obliczeniowo.\n",
        "\n",
        "Zaimplementuj inteligentne przeszukiwanie przestrzeni hiperparametrów za pomocą biblioteki [Optuna](https://optuna.org/). Implementuje ona między innymi algorytm Tree Parzen Estimator (TPE), należący do grupy algorytmów typu Bayesian search. Typowo osiągają one bardzo dobre wyniki, a właściwie zawsze lepsze od przeszukiwania losowego. Do tego wystarcza im często niewielka liczba kroków.\n",
        "\n",
        "Zaimplementuj 3-warstwową sieć MLP, gdzie pierwsza warstwa ma rozmiar ukryty N, a druga N // 2. Ucz ją optymalizatorem Adam przez maksymalnie 300 epok z cierpliwością 10.\n",
        "\n",
        "Przeszukaj wybrane zakresy dla hiperparametrów:\n",
        "- rozmiar warstw ukrytych (N)\n",
        "- stała ucząca\n",
        "- batch size\n",
        "- siła regularyzacji L2\n",
        "- prawdopodobieństwo dropoutu\n",
        "\n",
        "Wykorzystaj przynajmniej 30 iteracji. Następnie przełącz algorytm na losowy (Optuna także jego implementuje), wykonaj 30 iteracji i porównaj jakość wyników.\n",
        "\n",
        "Przydatne materiały:\n",
        "- [Optuna code examples - PyTorch](https://optuna.org/#code_examples)\n",
        "- [Auto-Tuning Hyperparameters with Optuna and PyTorch](https://www.youtube.com/watch?v=P6NwZVl8ttc)\n",
        "- [Hyperparameter Tuning of Neural Networks with Optuna and PyTorch](https://towardsdatascience.com/hyperparameter-tuning-of-neural-networks-with-optuna-and-pytorch-22e179efc837)\n",
        "- [Using Optuna to Optimize PyTorch Hyperparameters](https://medium.com/pytorch/using-optuna-to-optimize-pytorch-hyperparameters-990607385e36)"
      ]
    },
    {
      "cell_type": "code",
      "execution_count": null,
      "metadata": {
        "id": "LGjJDfYu37CU"
      },
      "outputs": [],
      "source": []
    }
  ],
  "metadata": {
    "colab": {
      "provenance": [],
      "toc_visible": true,
      "collapsed_sections": [
        "3ZmLSkQk37CS"
      ],
      "include_colab_link": true
    },
    "kernelspec": {
      "display_name": "Python 3 (ipykernel)",
      "language": "python",
      "name": "python3"
    },
    "language_info": {
      "codemirror_mode": {
        "name": "ipython",
        "version": 3
      },
      "file_extension": ".py",
      "mimetype": "text/x-python",
      "name": "python",
      "nbconvert_exporter": "python",
      "pygments_lexer": "ipython3",
      "version": "3.8.13"
    },
    "toc": {
      "base_numbering": 1,
      "nav_menu": {},
      "number_sections": false,
      "sideBar": false,
      "skip_h1_title": false,
      "title_cell": "Table of Contents",
      "title_sidebar": "Contents",
      "toc_cell": false,
      "toc_position": {},
      "toc_section_display": true,
      "toc_window_display": true
    },
    "vscode": {
      "interpreter": {
        "hash": "a5d7af91182035c53be6efb3f9b18ffc3e259c9c524705249407647c970de949"
      }
    }
  },
  "nbformat": 4,
  "nbformat_minor": 0
}